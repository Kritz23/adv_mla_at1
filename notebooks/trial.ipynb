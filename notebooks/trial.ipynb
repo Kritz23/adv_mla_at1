{
 "cells": [
  {
   "cell_type": "markdown",
   "id": "1be2a546",
   "metadata": {
    "papermill": {
     "duration": 0.028955,
     "end_time": "2021-11-05T15:14:31.401615",
     "exception": false,
     "start_time": "2021-11-05T15:14:31.372660",
     "status": "completed"
    },
    "tags": []
   },
   "source": [
    "# Points Prediction College Basketball 2009-2021 + NBA Advanced Stats "
   ]
  },
  {
   "cell_type": "code",
   "execution_count": 1,
   "id": "2d388a1f",
   "metadata": {
    "papermill": {
     "duration": 1.364339,
     "end_time": "2021-11-05T15:14:32.792100",
     "exception": false,
     "start_time": "2021-11-05T15:14:31.427761",
     "status": "completed"
    },
    "tags": []
   },
   "outputs": [],
   "source": [
    "#import library\n",
    "import numpy as np\n",
    "import pandas as pd\n",
    "#import seaborn as sns\n",
    "import matplotlib.pyplot as plt\n",
    "from sklearn.model_selection import train_test_split\n",
    "from sklearn.linear_model import LinearRegression, Ridge, Lasso\n",
    "from sklearn import metrics"
   ]
  },
  {
   "cell_type": "markdown",
   "id": "9a8e998b",
   "metadata": {
    "papermill": {
     "duration": 0.026823,
     "end_time": "2021-11-05T15:14:32.844726",
     "exception": false,
     "start_time": "2021-11-05T15:14:32.817903",
     "status": "completed"
    },
    "tags": []
   },
   "source": [
    "## Data Extraction"
   ]
  },
  {
   "cell_type": "code",
   "execution_count": 2,
   "id": "df66a441",
   "metadata": {
    "papermill": {
     "duration": 1.245718,
     "end_time": "2021-11-05T15:14:34.117168",
     "exception": false,
     "start_time": "2021-11-05T15:14:32.871450",
     "status": "completed"
    },
    "tags": []
   },
   "outputs": [
    {
     "name": "stderr",
     "output_type": "stream",
     "text": [
      "/var/folders/9j/gbzf9fpd7_v0wb8s40h7d7n80000gn/T/ipykernel_33247/4229903785.py:1: DtypeWarning: Columns (26) have mixed types. Specify dtype option on import or set low_memory=False.\n",
      "  df = pd.read_csv('../data/raw/train.csv')\n"
     ]
    }
   ],
   "source": [
    "df = pd.read_csv('../data/raw/train.csv')"
   ]
  },
  {
   "cell_type": "code",
   "execution_count": 3,
   "id": "1abe028f",
   "metadata": {
    "papermill": {
     "duration": 0.037439,
     "end_time": "2021-11-05T15:14:34.182029",
     "exception": false,
     "start_time": "2021-11-05T15:14:34.144590",
     "status": "completed"
    },
    "tags": []
   },
   "outputs": [
    {
     "data": {
      "text/plain": [
       "(56091, 64)"
      ]
     },
     "execution_count": 3,
     "metadata": {},
     "output_type": "execute_result"
    }
   ],
   "source": [
    "df.shape"
   ]
  },
  {
   "cell_type": "code",
   "execution_count": 4,
   "id": "47e5d54a",
   "metadata": {
    "papermill": {
     "duration": 0.066225,
     "end_time": "2021-11-05T15:14:34.274797",
     "exception": false,
     "start_time": "2021-11-05T15:14:34.208572",
     "status": "completed"
    },
    "tags": []
   },
   "outputs": [
    {
     "data": {
      "text/html": [
       "<div>\n",
       "<style scoped>\n",
       "    .dataframe tbody tr th:only-of-type {\n",
       "        vertical-align: middle;\n",
       "    }\n",
       "\n",
       "    .dataframe tbody tr th {\n",
       "        vertical-align: top;\n",
       "    }\n",
       "\n",
       "    .dataframe thead th {\n",
       "        text-align: right;\n",
       "    }\n",
       "</style>\n",
       "<table border=\"1\" class=\"dataframe\">\n",
       "  <thead>\n",
       "    <tr style=\"text-align: right;\">\n",
       "      <th></th>\n",
       "      <th>team</th>\n",
       "      <th>conf</th>\n",
       "      <th>GP</th>\n",
       "      <th>Min_per</th>\n",
       "      <th>Ortg</th>\n",
       "      <th>usg</th>\n",
       "      <th>eFG</th>\n",
       "      <th>TS_per</th>\n",
       "      <th>ORB_per</th>\n",
       "      <th>DRB_per</th>\n",
       "      <th>...</th>\n",
       "      <th>dgbpm</th>\n",
       "      <th>oreb</th>\n",
       "      <th>dreb</th>\n",
       "      <th>treb</th>\n",
       "      <th>ast</th>\n",
       "      <th>stl</th>\n",
       "      <th>blk</th>\n",
       "      <th>pts</th>\n",
       "      <th>player_id</th>\n",
       "      <th>drafted</th>\n",
       "    </tr>\n",
       "  </thead>\n",
       "  <tbody>\n",
       "    <tr>\n",
       "      <th>0</th>\n",
       "      <td>South Alabama</td>\n",
       "      <td>SB</td>\n",
       "      <td>26</td>\n",
       "      <td>29.5</td>\n",
       "      <td>97.3</td>\n",
       "      <td>16.6</td>\n",
       "      <td>42.5</td>\n",
       "      <td>44.43</td>\n",
       "      <td>1.6</td>\n",
       "      <td>4.6</td>\n",
       "      <td>...</td>\n",
       "      <td>-1.941150</td>\n",
       "      <td>0.1923</td>\n",
       "      <td>0.6154</td>\n",
       "      <td>0.8077</td>\n",
       "      <td>1.1923</td>\n",
       "      <td>0.3462</td>\n",
       "      <td>0.0385</td>\n",
       "      <td>3.8846</td>\n",
       "      <td>7be2aead-da4e-4d13-a74b-4c1e692e2368</td>\n",
       "      <td>0.0</td>\n",
       "    </tr>\n",
       "    <tr>\n",
       "      <th>1</th>\n",
       "      <td>Utah St.</td>\n",
       "      <td>WAC</td>\n",
       "      <td>34</td>\n",
       "      <td>60.9</td>\n",
       "      <td>108.3</td>\n",
       "      <td>14.9</td>\n",
       "      <td>52.4</td>\n",
       "      <td>54.48</td>\n",
       "      <td>3.8</td>\n",
       "      <td>6.3</td>\n",
       "      <td>...</td>\n",
       "      <td>-0.247934</td>\n",
       "      <td>0.6765</td>\n",
       "      <td>1.2647</td>\n",
       "      <td>1.9412</td>\n",
       "      <td>1.8235</td>\n",
       "      <td>0.4118</td>\n",
       "      <td>0.2353</td>\n",
       "      <td>5.9412</td>\n",
       "      <td>61de55d9-1582-4ea4-b593-44f6aa6524a6</td>\n",
       "      <td>0.0</td>\n",
       "    </tr>\n",
       "    <tr>\n",
       "      <th>2</th>\n",
       "      <td>South Florida</td>\n",
       "      <td>BE</td>\n",
       "      <td>27</td>\n",
       "      <td>72.0</td>\n",
       "      <td>96.2</td>\n",
       "      <td>21.8</td>\n",
       "      <td>45.7</td>\n",
       "      <td>47.98</td>\n",
       "      <td>2.1</td>\n",
       "      <td>8.0</td>\n",
       "      <td>...</td>\n",
       "      <td>-0.883163</td>\n",
       "      <td>0.6296</td>\n",
       "      <td>2.3333</td>\n",
       "      <td>2.9630</td>\n",
       "      <td>1.9630</td>\n",
       "      <td>0.4815</td>\n",
       "      <td>0.0000</td>\n",
       "      <td>12.1852</td>\n",
       "      <td>efdc4cfc-9dd0-4bf8-acef-7273e4d5b655</td>\n",
       "      <td>0.0</td>\n",
       "    </tr>\n",
       "    <tr>\n",
       "      <th>3</th>\n",
       "      <td>Pepperdine</td>\n",
       "      <td>WCC</td>\n",
       "      <td>30</td>\n",
       "      <td>44.5</td>\n",
       "      <td>97.7</td>\n",
       "      <td>16.0</td>\n",
       "      <td>53.6</td>\n",
       "      <td>53.69</td>\n",
       "      <td>4.1</td>\n",
       "      <td>9.4</td>\n",
       "      <td>...</td>\n",
       "      <td>-0.393459</td>\n",
       "      <td>0.7000</td>\n",
       "      <td>1.4333</td>\n",
       "      <td>2.1333</td>\n",
       "      <td>1.1000</td>\n",
       "      <td>0.5667</td>\n",
       "      <td>0.1333</td>\n",
       "      <td>4.9333</td>\n",
       "      <td>14f05660-bb3c-4868-b3dd-09bcdb64279d</td>\n",
       "      <td>0.0</td>\n",
       "    </tr>\n",
       "    <tr>\n",
       "      <th>4</th>\n",
       "      <td>Pacific</td>\n",
       "      <td>BW</td>\n",
       "      <td>33</td>\n",
       "      <td>56.2</td>\n",
       "      <td>96.5</td>\n",
       "      <td>22.0</td>\n",
       "      <td>52.8</td>\n",
       "      <td>54.31</td>\n",
       "      <td>8.3</td>\n",
       "      <td>18.6</td>\n",
       "      <td>...</td>\n",
       "      <td>-0.668318</td>\n",
       "      <td>1.4242</td>\n",
       "      <td>3.3030</td>\n",
       "      <td>4.7273</td>\n",
       "      <td>0.8485</td>\n",
       "      <td>0.4545</td>\n",
       "      <td>0.3333</td>\n",
       "      <td>7.5758</td>\n",
       "      <td>a58db52f-fbba-4e7b-83d0-371efcfed039</td>\n",
       "      <td>0.0</td>\n",
       "    </tr>\n",
       "  </tbody>\n",
       "</table>\n",
       "<p>5 rows × 64 columns</p>\n",
       "</div>"
      ],
      "text/plain": [
       "            team conf  GP  Min_per   Ortg   usg   eFG  TS_per  ORB_per   \n",
       "0  South Alabama   SB  26     29.5   97.3  16.6  42.5   44.43      1.6  \\\n",
       "1       Utah St.  WAC  34     60.9  108.3  14.9  52.4   54.48      3.8   \n",
       "2  South Florida   BE  27     72.0   96.2  21.8  45.7   47.98      2.1   \n",
       "3     Pepperdine  WCC  30     44.5   97.7  16.0  53.6   53.69      4.1   \n",
       "4        Pacific   BW  33     56.2   96.5  22.0  52.8   54.31      8.3   \n",
       "\n",
       "   DRB_per  ...     dgbpm    oreb    dreb    treb     ast     stl     blk   \n",
       "0      4.6  ... -1.941150  0.1923  0.6154  0.8077  1.1923  0.3462  0.0385  \\\n",
       "1      6.3  ... -0.247934  0.6765  1.2647  1.9412  1.8235  0.4118  0.2353   \n",
       "2      8.0  ... -0.883163  0.6296  2.3333  2.9630  1.9630  0.4815  0.0000   \n",
       "3      9.4  ... -0.393459  0.7000  1.4333  2.1333  1.1000  0.5667  0.1333   \n",
       "4     18.6  ... -0.668318  1.4242  3.3030  4.7273  0.8485  0.4545  0.3333   \n",
       "\n",
       "       pts                             player_id  drafted  \n",
       "0   3.8846  7be2aead-da4e-4d13-a74b-4c1e692e2368      0.0  \n",
       "1   5.9412  61de55d9-1582-4ea4-b593-44f6aa6524a6      0.0  \n",
       "2  12.1852  efdc4cfc-9dd0-4bf8-acef-7273e4d5b655      0.0  \n",
       "3   4.9333  14f05660-bb3c-4868-b3dd-09bcdb64279d      0.0  \n",
       "4   7.5758  a58db52f-fbba-4e7b-83d0-371efcfed039      0.0  \n",
       "\n",
       "[5 rows x 64 columns]"
      ]
     },
     "execution_count": 4,
     "metadata": {},
     "output_type": "execute_result"
    }
   ],
   "source": [
    "df.head()"
   ]
  },
  {
   "cell_type": "code",
   "execution_count": 5,
   "id": "99cdf49b-e6d1-440b-802c-ea505a25b0ed",
   "metadata": {
    "tags": []
   },
   "outputs": [
    {
     "name": "stdout",
     "output_type": "stream",
     "text": [
      "<class 'pandas.core.frame.DataFrame'>\n",
      "RangeIndex: 56091 entries, 0 to 56090\n",
      "Data columns (total 64 columns):\n",
      " #   Column               Non-Null Count  Dtype  \n",
      "---  ------               --------------  -----  \n",
      " 0   team                 56091 non-null  object \n",
      " 1   conf                 56091 non-null  object \n",
      " 2   GP                   56091 non-null  int64  \n",
      " 3   Min_per              56091 non-null  float64\n",
      " 4   Ortg                 56091 non-null  float64\n",
      " 5   usg                  56091 non-null  float64\n",
      " 6   eFG                  56091 non-null  float64\n",
      " 7   TS_per               56091 non-null  float64\n",
      " 8   ORB_per              56091 non-null  float64\n",
      " 9   DRB_per              56091 non-null  float64\n",
      " 10  AST_per              56091 non-null  float64\n",
      " 11  TO_per               56091 non-null  float64\n",
      " 12  FTM                  56091 non-null  int64  \n",
      " 13  FTA                  56091 non-null  int64  \n",
      " 14  FT_per               56091 non-null  float64\n",
      " 15  twoPM                56091 non-null  int64  \n",
      " 16  twoPA                56091 non-null  int64  \n",
      " 17  twoP_per             56091 non-null  float64\n",
      " 18  TPM                  56091 non-null  int64  \n",
      " 19  TPA                  56091 non-null  int64  \n",
      " 20  TP_per               56091 non-null  float64\n",
      " 21  blk_per              56091 non-null  float64\n",
      " 22  stl_per              56091 non-null  float64\n",
      " 23  ftr                  56091 non-null  float64\n",
      " 24  yr                   55799 non-null  object \n",
      " 25  ht                   55993 non-null  object \n",
      " 26  num                  51401 non-null  object \n",
      " 27  porpag               56091 non-null  float64\n",
      " 28  adjoe                56091 non-null  float64\n",
      " 29  pfr                  56091 non-null  float64\n",
      " 30  year                 56091 non-null  int64  \n",
      " 31  type                 56091 non-null  object \n",
      " 32  Rec_Rank             17036 non-null  float64\n",
      " 33  ast_tov              51901 non-null  float64\n",
      " 34  rimmade              50010 non-null  float64\n",
      " 35  rimmade_rimmiss      50010 non-null  float64\n",
      " 36  midmade              50010 non-null  float64\n",
      " 37  midmade_midmiss      50010 non-null  float64\n",
      " 38  rim_ratio            46627 non-null  float64\n",
      " 39  mid_ratio            46403 non-null  float64\n",
      " 40  dunksmade            50010 non-null  float64\n",
      " 41  dunksmiss_dunksmade  50010 non-null  float64\n",
      " 42  dunks_ratio          25298 non-null  float64\n",
      " 43  pick                 1386 non-null   float64\n",
      " 44  drtg                 56047 non-null  float64\n",
      " 45  adrtg                56047 non-null  float64\n",
      " 46  dporpag              56047 non-null  float64\n",
      " 47  stops                56047 non-null  float64\n",
      " 48  bpm                  56047 non-null  float64\n",
      " 49  obpm                 56047 non-null  float64\n",
      " 50  dbpm                 56047 non-null  float64\n",
      " 51  gbpm                 56047 non-null  float64\n",
      " 52  mp                   56053 non-null  float64\n",
      " 53  ogbpm                56047 non-null  float64\n",
      " 54  dgbpm                56047 non-null  float64\n",
      " 55  oreb                 56053 non-null  float64\n",
      " 56  dreb                 56053 non-null  float64\n",
      " 57  treb                 56053 non-null  float64\n",
      " 58  ast                  56053 non-null  float64\n",
      " 59  stl                  56053 non-null  float64\n",
      " 60  blk                  56053 non-null  float64\n",
      " 61  pts                  56053 non-null  float64\n",
      " 62  player_id            56091 non-null  object \n",
      " 63  drafted              56091 non-null  float64\n",
      "dtypes: float64(49), int64(8), object(7)\n",
      "memory usage: 27.4+ MB\n"
     ]
    }
   ],
   "source": [
    "df.info()"
   ]
  },
  {
   "cell_type": "code",
   "execution_count": 6,
   "id": "2923ece3-b68c-4a16-b4fc-ecc87c9bd8d2",
   "metadata": {
    "tags": []
   },
   "outputs": [
    {
     "data": {
      "text/html": [
       "<div>\n",
       "<style scoped>\n",
       "    .dataframe tbody tr th:only-of-type {\n",
       "        vertical-align: middle;\n",
       "    }\n",
       "\n",
       "    .dataframe tbody tr th {\n",
       "        vertical-align: top;\n",
       "    }\n",
       "\n",
       "    .dataframe thead th {\n",
       "        text-align: right;\n",
       "    }\n",
       "</style>\n",
       "<table border=\"1\" class=\"dataframe\">\n",
       "  <thead>\n",
       "    <tr style=\"text-align: right;\">\n",
       "      <th></th>\n",
       "      <th>team</th>\n",
       "      <th>conf</th>\n",
       "      <th>GP</th>\n",
       "      <th>Min_per</th>\n",
       "      <th>Ortg</th>\n",
       "      <th>usg</th>\n",
       "      <th>eFG</th>\n",
       "      <th>TS_per</th>\n",
       "      <th>ORB_per</th>\n",
       "      <th>DRB_per</th>\n",
       "      <th>...</th>\n",
       "      <th>dgbpm</th>\n",
       "      <th>oreb</th>\n",
       "      <th>dreb</th>\n",
       "      <th>treb</th>\n",
       "      <th>ast</th>\n",
       "      <th>stl</th>\n",
       "      <th>blk</th>\n",
       "      <th>pts</th>\n",
       "      <th>player_id</th>\n",
       "      <th>drafted</th>\n",
       "    </tr>\n",
       "  </thead>\n",
       "  <tbody>\n",
       "    <tr>\n",
       "      <th>count</th>\n",
       "      <td>56091</td>\n",
       "      <td>56091</td>\n",
       "      <td>56091.000000</td>\n",
       "      <td>56091.000000</td>\n",
       "      <td>56091.000000</td>\n",
       "      <td>56091.000000</td>\n",
       "      <td>56091.000000</td>\n",
       "      <td>56091.000000</td>\n",
       "      <td>56091.000000</td>\n",
       "      <td>56091.000000</td>\n",
       "      <td>...</td>\n",
       "      <td>56047.000000</td>\n",
       "      <td>56053.000000</td>\n",
       "      <td>56053.000000</td>\n",
       "      <td>56053.000000</td>\n",
       "      <td>56053.000000</td>\n",
       "      <td>56053.000000</td>\n",
       "      <td>56053.000000</td>\n",
       "      <td>56053.000000</td>\n",
       "      <td>56091</td>\n",
       "      <td>56091.000000</td>\n",
       "    </tr>\n",
       "    <tr>\n",
       "      <th>unique</th>\n",
       "      <td>358</td>\n",
       "      <td>36</td>\n",
       "      <td>NaN</td>\n",
       "      <td>NaN</td>\n",
       "      <td>NaN</td>\n",
       "      <td>NaN</td>\n",
       "      <td>NaN</td>\n",
       "      <td>NaN</td>\n",
       "      <td>NaN</td>\n",
       "      <td>NaN</td>\n",
       "      <td>...</td>\n",
       "      <td>NaN</td>\n",
       "      <td>NaN</td>\n",
       "      <td>NaN</td>\n",
       "      <td>NaN</td>\n",
       "      <td>NaN</td>\n",
       "      <td>NaN</td>\n",
       "      <td>NaN</td>\n",
       "      <td>NaN</td>\n",
       "      <td>23929</td>\n",
       "      <td>NaN</td>\n",
       "    </tr>\n",
       "    <tr>\n",
       "      <th>top</th>\n",
       "      <td>Army</td>\n",
       "      <td>ACC</td>\n",
       "      <td>NaN</td>\n",
       "      <td>NaN</td>\n",
       "      <td>NaN</td>\n",
       "      <td>NaN</td>\n",
       "      <td>NaN</td>\n",
       "      <td>NaN</td>\n",
       "      <td>NaN</td>\n",
       "      <td>NaN</td>\n",
       "      <td>...</td>\n",
       "      <td>NaN</td>\n",
       "      <td>NaN</td>\n",
       "      <td>NaN</td>\n",
       "      <td>NaN</td>\n",
       "      <td>NaN</td>\n",
       "      <td>NaN</td>\n",
       "      <td>NaN</td>\n",
       "      <td>NaN</td>\n",
       "      <td>06dc8dc2-888e-4941-9106-4798cddfb9d2</td>\n",
       "      <td>NaN</td>\n",
       "    </tr>\n",
       "    <tr>\n",
       "      <th>freq</th>\n",
       "      <td>209</td>\n",
       "      <td>2297</td>\n",
       "      <td>NaN</td>\n",
       "      <td>NaN</td>\n",
       "      <td>NaN</td>\n",
       "      <td>NaN</td>\n",
       "      <td>NaN</td>\n",
       "      <td>NaN</td>\n",
       "      <td>NaN</td>\n",
       "      <td>NaN</td>\n",
       "      <td>...</td>\n",
       "      <td>NaN</td>\n",
       "      <td>NaN</td>\n",
       "      <td>NaN</td>\n",
       "      <td>NaN</td>\n",
       "      <td>NaN</td>\n",
       "      <td>NaN</td>\n",
       "      <td>NaN</td>\n",
       "      <td>NaN</td>\n",
       "      <td>6</td>\n",
       "      <td>NaN</td>\n",
       "    </tr>\n",
       "    <tr>\n",
       "      <th>mean</th>\n",
       "      <td>NaN</td>\n",
       "      <td>NaN</td>\n",
       "      <td>23.411973</td>\n",
       "      <td>37.325229</td>\n",
       "      <td>91.858295</td>\n",
       "      <td>18.149265</td>\n",
       "      <td>44.575513</td>\n",
       "      <td>47.676882</td>\n",
       "      <td>5.575376</td>\n",
       "      <td>12.673716</td>\n",
       "      <td>...</td>\n",
       "      <td>-0.442297</td>\n",
       "      <td>0.770611</td>\n",
       "      <td>1.892593</td>\n",
       "      <td>2.663204</td>\n",
       "      <td>1.073038</td>\n",
       "      <td>0.529475</td>\n",
       "      <td>0.282825</td>\n",
       "      <td>5.775381</td>\n",
       "      <td>NaN</td>\n",
       "      <td>0.009556</td>\n",
       "    </tr>\n",
       "    <tr>\n",
       "      <th>std</th>\n",
       "      <td>NaN</td>\n",
       "      <td>NaN</td>\n",
       "      <td>10.090542</td>\n",
       "      <td>28.061897</td>\n",
       "      <td>30.538819</td>\n",
       "      <td>6.204489</td>\n",
       "      <td>18.213813</td>\n",
       "      <td>17.414133</td>\n",
       "      <td>9.480239</td>\n",
       "      <td>10.878099</td>\n",
       "      <td>...</td>\n",
       "      <td>3.279438</td>\n",
       "      <td>0.738899</td>\n",
       "      <td>1.479148</td>\n",
       "      <td>2.099913</td>\n",
       "      <td>1.171148</td>\n",
       "      <td>0.469152</td>\n",
       "      <td>0.417754</td>\n",
       "      <td>4.953723</td>\n",
       "      <td>NaN</td>\n",
       "      <td>0.097287</td>\n",
       "    </tr>\n",
       "    <tr>\n",
       "      <th>min</th>\n",
       "      <td>NaN</td>\n",
       "      <td>NaN</td>\n",
       "      <td>1.000000</td>\n",
       "      <td>0.000000</td>\n",
       "      <td>0.000000</td>\n",
       "      <td>0.000000</td>\n",
       "      <td>0.000000</td>\n",
       "      <td>0.000000</td>\n",
       "      <td>0.000000</td>\n",
       "      <td>0.000000</td>\n",
       "      <td>...</td>\n",
       "      <td>-100.984000</td>\n",
       "      <td>0.000000</td>\n",
       "      <td>0.000000</td>\n",
       "      <td>0.000000</td>\n",
       "      <td>0.000000</td>\n",
       "      <td>0.000000</td>\n",
       "      <td>0.000000</td>\n",
       "      <td>0.000000</td>\n",
       "      <td>NaN</td>\n",
       "      <td>0.000000</td>\n",
       "    </tr>\n",
       "    <tr>\n",
       "      <th>25%</th>\n",
       "      <td>NaN</td>\n",
       "      <td>NaN</td>\n",
       "      <td>16.000000</td>\n",
       "      <td>9.500000</td>\n",
       "      <td>84.100000</td>\n",
       "      <td>14.500000</td>\n",
       "      <td>40.100000</td>\n",
       "      <td>43.930000</td>\n",
       "      <td>1.800000</td>\n",
       "      <td>8.400000</td>\n",
       "      <td>...</td>\n",
       "      <td>-1.728030</td>\n",
       "      <td>0.225800</td>\n",
       "      <td>0.700000</td>\n",
       "      <td>1.000000</td>\n",
       "      <td>0.222200</td>\n",
       "      <td>0.160000</td>\n",
       "      <td>0.000000</td>\n",
       "      <td>1.571400</td>\n",
       "      <td>NaN</td>\n",
       "      <td>0.000000</td>\n",
       "    </tr>\n",
       "    <tr>\n",
       "      <th>50%</th>\n",
       "      <td>NaN</td>\n",
       "      <td>NaN</td>\n",
       "      <td>28.000000</td>\n",
       "      <td>35.900000</td>\n",
       "      <td>97.100000</td>\n",
       "      <td>18.100000</td>\n",
       "      <td>47.700000</td>\n",
       "      <td>50.850000</td>\n",
       "      <td>4.300000</td>\n",
       "      <td>11.900000</td>\n",
       "      <td>...</td>\n",
       "      <td>-0.313051</td>\n",
       "      <td>0.545500</td>\n",
       "      <td>1.633300</td>\n",
       "      <td>2.259300</td>\n",
       "      <td>0.677400</td>\n",
       "      <td>0.424200</td>\n",
       "      <td>0.133300</td>\n",
       "      <td>4.482800</td>\n",
       "      <td>NaN</td>\n",
       "      <td>0.000000</td>\n",
       "    </tr>\n",
       "    <tr>\n",
       "      <th>75%</th>\n",
       "      <td>NaN</td>\n",
       "      <td>NaN</td>\n",
       "      <td>31.000000</td>\n",
       "      <td>62.200000</td>\n",
       "      <td>106.900000</td>\n",
       "      <td>21.800000</td>\n",
       "      <td>53.200000</td>\n",
       "      <td>56.060000</td>\n",
       "      <td>8.100000</td>\n",
       "      <td>16.000000</td>\n",
       "      <td>...</td>\n",
       "      <td>1.066415</td>\n",
       "      <td>1.111100</td>\n",
       "      <td>2.758600</td>\n",
       "      <td>3.833300</td>\n",
       "      <td>1.533300</td>\n",
       "      <td>0.793100</td>\n",
       "      <td>0.366700</td>\n",
       "      <td>9.069000</td>\n",
       "      <td>NaN</td>\n",
       "      <td>0.000000</td>\n",
       "    </tr>\n",
       "    <tr>\n",
       "      <th>max</th>\n",
       "      <td>NaN</td>\n",
       "      <td>NaN</td>\n",
       "      <td>41.000000</td>\n",
       "      <td>98.000000</td>\n",
       "      <td>834.000000</td>\n",
       "      <td>50.000000</td>\n",
       "      <td>150.000000</td>\n",
       "      <td>150.000000</td>\n",
       "      <td>1576.600000</td>\n",
       "      <td>1385.000000</td>\n",
       "      <td>...</td>\n",
       "      <td>78.985500</td>\n",
       "      <td>5.933300</td>\n",
       "      <td>11.545500</td>\n",
       "      <td>14.533300</td>\n",
       "      <td>10.000000</td>\n",
       "      <td>4.000000</td>\n",
       "      <td>5.258100</td>\n",
       "      <td>30.090900</td>\n",
       "      <td>NaN</td>\n",
       "      <td>1.000000</td>\n",
       "    </tr>\n",
       "  </tbody>\n",
       "</table>\n",
       "<p>11 rows × 64 columns</p>\n",
       "</div>"
      ],
      "text/plain": [
       "         team   conf            GP       Min_per          Ortg           usg   \n",
       "count   56091  56091  56091.000000  56091.000000  56091.000000  56091.000000  \\\n",
       "unique    358     36           NaN           NaN           NaN           NaN   \n",
       "top      Army    ACC           NaN           NaN           NaN           NaN   \n",
       "freq      209   2297           NaN           NaN           NaN           NaN   \n",
       "mean      NaN    NaN     23.411973     37.325229     91.858295     18.149265   \n",
       "std       NaN    NaN     10.090542     28.061897     30.538819      6.204489   \n",
       "min       NaN    NaN      1.000000      0.000000      0.000000      0.000000   \n",
       "25%       NaN    NaN     16.000000      9.500000     84.100000     14.500000   \n",
       "50%       NaN    NaN     28.000000     35.900000     97.100000     18.100000   \n",
       "75%       NaN    NaN     31.000000     62.200000    106.900000     21.800000   \n",
       "max       NaN    NaN     41.000000     98.000000    834.000000     50.000000   \n",
       "\n",
       "                 eFG        TS_per       ORB_per       DRB_per  ...   \n",
       "count   56091.000000  56091.000000  56091.000000  56091.000000  ...  \\\n",
       "unique           NaN           NaN           NaN           NaN  ...   \n",
       "top              NaN           NaN           NaN           NaN  ...   \n",
       "freq             NaN           NaN           NaN           NaN  ...   \n",
       "mean       44.575513     47.676882      5.575376     12.673716  ...   \n",
       "std        18.213813     17.414133      9.480239     10.878099  ...   \n",
       "min         0.000000      0.000000      0.000000      0.000000  ...   \n",
       "25%        40.100000     43.930000      1.800000      8.400000  ...   \n",
       "50%        47.700000     50.850000      4.300000     11.900000  ...   \n",
       "75%        53.200000     56.060000      8.100000     16.000000  ...   \n",
       "max       150.000000    150.000000   1576.600000   1385.000000  ...   \n",
       "\n",
       "               dgbpm          oreb          dreb          treb           ast   \n",
       "count   56047.000000  56053.000000  56053.000000  56053.000000  56053.000000  \\\n",
       "unique           NaN           NaN           NaN           NaN           NaN   \n",
       "top              NaN           NaN           NaN           NaN           NaN   \n",
       "freq             NaN           NaN           NaN           NaN           NaN   \n",
       "mean       -0.442297      0.770611      1.892593      2.663204      1.073038   \n",
       "std         3.279438      0.738899      1.479148      2.099913      1.171148   \n",
       "min      -100.984000      0.000000      0.000000      0.000000      0.000000   \n",
       "25%        -1.728030      0.225800      0.700000      1.000000      0.222200   \n",
       "50%        -0.313051      0.545500      1.633300      2.259300      0.677400   \n",
       "75%         1.066415      1.111100      2.758600      3.833300      1.533300   \n",
       "max        78.985500      5.933300     11.545500     14.533300     10.000000   \n",
       "\n",
       "                 stl           blk           pts   \n",
       "count   56053.000000  56053.000000  56053.000000  \\\n",
       "unique           NaN           NaN           NaN   \n",
       "top              NaN           NaN           NaN   \n",
       "freq             NaN           NaN           NaN   \n",
       "mean        0.529475      0.282825      5.775381   \n",
       "std         0.469152      0.417754      4.953723   \n",
       "min         0.000000      0.000000      0.000000   \n",
       "25%         0.160000      0.000000      1.571400   \n",
       "50%         0.424200      0.133300      4.482800   \n",
       "75%         0.793100      0.366700      9.069000   \n",
       "max         4.000000      5.258100     30.090900   \n",
       "\n",
       "                                   player_id       drafted  \n",
       "count                                  56091  56091.000000  \n",
       "unique                                 23929           NaN  \n",
       "top     06dc8dc2-888e-4941-9106-4798cddfb9d2           NaN  \n",
       "freq                                       6           NaN  \n",
       "mean                                     NaN      0.009556  \n",
       "std                                      NaN      0.097287  \n",
       "min                                      NaN      0.000000  \n",
       "25%                                      NaN      0.000000  \n",
       "50%                                      NaN      0.000000  \n",
       "75%                                      NaN      0.000000  \n",
       "max                                      NaN      1.000000  \n",
       "\n",
       "[11 rows x 64 columns]"
      ]
     },
     "execution_count": 6,
     "metadata": {},
     "output_type": "execute_result"
    }
   ],
   "source": [
    "df.describe(include='all')"
   ]
  },
  {
   "cell_type": "code",
   "execution_count": 7,
   "id": "bd368004-7f94-4464-b443-0d6d8edc8dab",
   "metadata": {
    "tags": []
   },
   "outputs": [],
   "source": [
    "df_cleaned = df.copy()"
   ]
  },
  {
   "cell_type": "code",
   "execution_count": 8,
   "id": "09b84815",
   "metadata": {
    "papermill": {
     "duration": 0.078433,
     "end_time": "2021-11-05T15:14:36.134876",
     "exception": false,
     "start_time": "2021-11-05T15:14:36.056443",
     "status": "completed"
    },
    "tags": []
   },
   "outputs": [],
   "source": [
    "target = df_cleaned.pop(\"player_id\")"
   ]
  },
  {
   "cell_type": "code",
   "execution_count": 9,
   "id": "7fde184a-2ab4-4fbe-9c27-d5868973e9d2",
   "metadata": {
    "tags": []
   },
   "outputs": [
    {
     "data": {
      "text/plain": [
       "4690"
      ]
     },
     "execution_count": 9,
     "metadata": {},
     "output_type": "execute_result"
    }
   ],
   "source": [
    "df_cleaned[\"num\"].isnull().sum().sum()"
   ]
  },
  {
   "cell_type": "code",
   "execution_count": 49,
   "id": "dd1cdaa1-1c22-4913-bc56-15cb9fe9a4fb",
   "metadata": {
    "tags": []
   },
   "outputs": [],
   "source": [
    "# Replace NaN values with 0\n",
    "df_cleaned = df_cleaned.fillna(0)"
   ]
  },
  {
   "cell_type": "code",
   "execution_count": 21,
   "id": "6fc95d81-b3b4-4fe8-8692-16979ebae0d7",
   "metadata": {
    "tags": []
   },
   "outputs": [],
   "source": [
    "num_cols = list(df_cleaned.select_dtypes('number').columns)\n",
    "cat_cols = list(set(df_cleaned.columns) - set(num_cols))"
   ]
  },
  {
   "cell_type": "code",
   "execution_count": 28,
   "id": "92805611-50e2-4b6f-856f-a3ffb126021d",
   "metadata": {
    "tags": []
   },
   "outputs": [
    {
     "data": {
      "text/plain": [
       "['team', 'type', 'num', 'yr', 'ht', 'conf']"
      ]
     },
     "execution_count": 28,
     "metadata": {},
     "output_type": "execute_result"
    }
   ],
   "source": [
    "cat_cols"
   ]
  },
  {
   "cell_type": "code",
   "execution_count": 30,
   "id": "f7b33b23-f846-43ab-a0c2-d91e0db9570c",
   "metadata": {
    "tags": []
   },
   "outputs": [],
   "source": [
    "df[cat_cols] = df[cat_cols].astype(str)"
   ]
  },
  {
   "cell_type": "code",
   "execution_count": 39,
   "id": "b4b33a79-cc7a-42e9-8f65-6d2dd35301cc",
   "metadata": {
    "tags": []
   },
   "outputs": [],
   "source": [
    "from sklearn.preprocessing import LabelEncoder\n",
    "\n",
    "# Instantiate LabelEncoder\n",
    "le = LabelEncoder()\n",
    "\n",
    "# Apply LabelEncoder to categorical columns\n",
    "for column in cat_cols:\n",
    "    df_cleaned[column] = le.fit_transform(df_cleaned[column].astype(str))"
   ]
  },
  {
   "cell_type": "code",
   "execution_count": 40,
   "id": "6175aeec-de7b-4ae6-bdba-7395dff90b72",
   "metadata": {
    "tags": []
   },
   "outputs": [
    {
     "data": {
      "text/html": [
       "<div>\n",
       "<style scoped>\n",
       "    .dataframe tbody tr th:only-of-type {\n",
       "        vertical-align: middle;\n",
       "    }\n",
       "\n",
       "    .dataframe tbody tr th {\n",
       "        vertical-align: top;\n",
       "    }\n",
       "\n",
       "    .dataframe thead th {\n",
       "        text-align: right;\n",
       "    }\n",
       "</style>\n",
       "<table border=\"1\" class=\"dataframe\">\n",
       "  <thead>\n",
       "    <tr style=\"text-align: right;\">\n",
       "      <th></th>\n",
       "      <th>team</th>\n",
       "      <th>conf</th>\n",
       "      <th>GP</th>\n",
       "      <th>Min_per</th>\n",
       "      <th>Ortg</th>\n",
       "      <th>usg</th>\n",
       "      <th>eFG</th>\n",
       "      <th>TS_per</th>\n",
       "      <th>ORB_per</th>\n",
       "      <th>DRB_per</th>\n",
       "      <th>...</th>\n",
       "      <th>ogbpm</th>\n",
       "      <th>dgbpm</th>\n",
       "      <th>oreb</th>\n",
       "      <th>dreb</th>\n",
       "      <th>treb</th>\n",
       "      <th>ast</th>\n",
       "      <th>stl</th>\n",
       "      <th>blk</th>\n",
       "      <th>pts</th>\n",
       "      <th>drafted</th>\n",
       "    </tr>\n",
       "  </thead>\n",
       "  <tbody>\n",
       "    <tr>\n",
       "      <th>0</th>\n",
       "      <td>187</td>\n",
       "      <td>27</td>\n",
       "      <td>26</td>\n",
       "      <td>29.5</td>\n",
       "      <td>97.3</td>\n",
       "      <td>16.6</td>\n",
       "      <td>42.5</td>\n",
       "      <td>44.43</td>\n",
       "      <td>1.6</td>\n",
       "      <td>4.6</td>\n",
       "      <td>...</td>\n",
       "      <td>-2.781990</td>\n",
       "      <td>-1.941150</td>\n",
       "      <td>0.1923</td>\n",
       "      <td>0.6154</td>\n",
       "      <td>0.8077</td>\n",
       "      <td>1.1923</td>\n",
       "      <td>0.3462</td>\n",
       "      <td>0.0385</td>\n",
       "      <td>3.8846</td>\n",
       "      <td>0.0</td>\n",
       "    </tr>\n",
       "    <tr>\n",
       "      <th>1</th>\n",
       "      <td>254</td>\n",
       "      <td>33</td>\n",
       "      <td>34</td>\n",
       "      <td>60.9</td>\n",
       "      <td>108.3</td>\n",
       "      <td>14.9</td>\n",
       "      <td>52.4</td>\n",
       "      <td>54.48</td>\n",
       "      <td>3.8</td>\n",
       "      <td>6.3</td>\n",
       "      <td>...</td>\n",
       "      <td>-0.052263</td>\n",
       "      <td>-0.247934</td>\n",
       "      <td>0.6765</td>\n",
       "      <td>1.2647</td>\n",
       "      <td>1.9412</td>\n",
       "      <td>1.8235</td>\n",
       "      <td>0.4118</td>\n",
       "      <td>0.2353</td>\n",
       "      <td>5.9412</td>\n",
       "      <td>0.0</td>\n",
       "    </tr>\n",
       "    <tr>\n",
       "      <th>2</th>\n",
       "      <td>193</td>\n",
       "      <td>7</td>\n",
       "      <td>27</td>\n",
       "      <td>72.0</td>\n",
       "      <td>96.2</td>\n",
       "      <td>21.8</td>\n",
       "      <td>45.7</td>\n",
       "      <td>47.98</td>\n",
       "      <td>2.1</td>\n",
       "      <td>8.0</td>\n",
       "      <td>...</td>\n",
       "      <td>1.548230</td>\n",
       "      <td>-0.883163</td>\n",
       "      <td>0.6296</td>\n",
       "      <td>2.3333</td>\n",
       "      <td>2.9630</td>\n",
       "      <td>1.9630</td>\n",
       "      <td>0.4815</td>\n",
       "      <td>0.0000</td>\n",
       "      <td>12.1852</td>\n",
       "      <td>0.0</td>\n",
       "    </tr>\n",
       "    <tr>\n",
       "      <th>3</th>\n",
       "      <td>148</td>\n",
       "      <td>34</td>\n",
       "      <td>30</td>\n",
       "      <td>44.5</td>\n",
       "      <td>97.7</td>\n",
       "      <td>16.0</td>\n",
       "      <td>53.6</td>\n",
       "      <td>53.69</td>\n",
       "      <td>4.1</td>\n",
       "      <td>9.4</td>\n",
       "      <td>...</td>\n",
       "      <td>-0.342775</td>\n",
       "      <td>-0.393459</td>\n",
       "      <td>0.7000</td>\n",
       "      <td>1.4333</td>\n",
       "      <td>2.1333</td>\n",
       "      <td>1.1000</td>\n",
       "      <td>0.5667</td>\n",
       "      <td>0.1333</td>\n",
       "      <td>4.9333</td>\n",
       "      <td>0.0</td>\n",
       "    </tr>\n",
       "    <tr>\n",
       "      <th>4</th>\n",
       "      <td>144</td>\n",
       "      <td>10</td>\n",
       "      <td>33</td>\n",
       "      <td>56.2</td>\n",
       "      <td>96.5</td>\n",
       "      <td>22.0</td>\n",
       "      <td>52.8</td>\n",
       "      <td>54.31</td>\n",
       "      <td>8.3</td>\n",
       "      <td>18.6</td>\n",
       "      <td>...</td>\n",
       "      <td>-1.684860</td>\n",
       "      <td>-0.668318</td>\n",
       "      <td>1.4242</td>\n",
       "      <td>3.3030</td>\n",
       "      <td>4.7273</td>\n",
       "      <td>0.8485</td>\n",
       "      <td>0.4545</td>\n",
       "      <td>0.3333</td>\n",
       "      <td>7.5758</td>\n",
       "      <td>0.0</td>\n",
       "    </tr>\n",
       "  </tbody>\n",
       "</table>\n",
       "<p>5 rows × 63 columns</p>\n",
       "</div>"
      ],
      "text/plain": [
       "   team  conf  GP  Min_per   Ortg   usg   eFG  TS_per  ORB_per  DRB_per  ...   \n",
       "0   187    27  26     29.5   97.3  16.6  42.5   44.43      1.6      4.6  ...  \\\n",
       "1   254    33  34     60.9  108.3  14.9  52.4   54.48      3.8      6.3  ...   \n",
       "2   193     7  27     72.0   96.2  21.8  45.7   47.98      2.1      8.0  ...   \n",
       "3   148    34  30     44.5   97.7  16.0  53.6   53.69      4.1      9.4  ...   \n",
       "4   144    10  33     56.2   96.5  22.0  52.8   54.31      8.3     18.6  ...   \n",
       "\n",
       "      ogbpm     dgbpm    oreb    dreb    treb     ast     stl     blk   \n",
       "0 -2.781990 -1.941150  0.1923  0.6154  0.8077  1.1923  0.3462  0.0385  \\\n",
       "1 -0.052263 -0.247934  0.6765  1.2647  1.9412  1.8235  0.4118  0.2353   \n",
       "2  1.548230 -0.883163  0.6296  2.3333  2.9630  1.9630  0.4815  0.0000   \n",
       "3 -0.342775 -0.393459  0.7000  1.4333  2.1333  1.1000  0.5667  0.1333   \n",
       "4 -1.684860 -0.668318  1.4242  3.3030  4.7273  0.8485  0.4545  0.3333   \n",
       "\n",
       "       pts  drafted  \n",
       "0   3.8846      0.0  \n",
       "1   5.9412      0.0  \n",
       "2  12.1852      0.0  \n",
       "3   4.9333      0.0  \n",
       "4   7.5758      0.0  \n",
       "\n",
       "[5 rows x 63 columns]"
      ]
     },
     "execution_count": 40,
     "metadata": {},
     "output_type": "execute_result"
    }
   ],
   "source": [
    "df_cleaned.head()"
   ]
  },
  {
   "cell_type": "code",
   "execution_count": 43,
   "id": "d644fa01-a77e-4919-bcac-ba9f592b5698",
   "metadata": {
    "tags": []
   },
   "outputs": [
    {
     "data": {
      "text/plain": [
       "0         1\n",
       "1         1\n",
       "2         1\n",
       "3         1\n",
       "4         1\n",
       "         ..\n",
       "56086    36\n",
       "56087    10\n",
       "56088     8\n",
       "56089    20\n",
       "56090    55\n",
       "Name: num, Length: 56091, dtype: int64"
      ]
     },
     "execution_count": 43,
     "metadata": {},
     "output_type": "execute_result"
    }
   ],
   "source": [
    "df_cleaned[\"num\"]"
   ]
  },
  {
   "cell_type": "code",
   "execution_count": 35,
   "id": "3f23441b-e384-4cd3-b657-9ab42fff1121",
   "metadata": {
    "tags": []
   },
   "outputs": [],
   "source": [
    "df_encoded[num_cols] = scaler.fit_transform(df_cleaned[num_cols])"
   ]
  },
  {
   "cell_type": "markdown",
   "id": "2cd30e60-7619-4c47-ab47-2b1d77e8720e",
   "metadata": {},
   "source": [
    "### Split data"
   ]
  },
  {
   "cell_type": "code",
   "execution_count": 12,
   "id": "f23ed5a7",
   "metadata": {
    "execution": {
     "iopub.execute_input": "2021-11-05T15:14:36.207659Z",
     "iopub.status.busy": "2021-11-05T15:14:36.206955Z",
     "iopub.status.idle": "2021-11-05T15:14:36.220236Z",
     "shell.execute_reply": "2021-11-05T15:14:36.219385Z",
     "shell.execute_reply.started": "2021-11-05T15:14:01.018531Z"
    },
    "papermill": {
     "duration": 0.052707,
     "end_time": "2021-11-05T15:14:36.220451",
     "exception": false,
     "start_time": "2021-11-05T15:14:36.167744",
     "status": "completed"
    },
    "tags": []
   },
   "outputs": [
    {
     "name": "stdout",
     "output_type": "stream",
     "text": [
      "(746, 796)\n",
      "(746,)\n",
      "(321, 796)\n",
      "(321,)\n"
     ]
    }
   ],
   "source": [
    "#split data\n",
    "X = df.drop('drafted', axis = 1)\n",
    "y = df['pts']\n",
    "X_train, X_test, y_train, y_test = train_test_split(X, y, test_size = 0.3, random_state = 0)\n",
    "print(X_train.shape)\n",
    "print(y_train.shape)\n",
    "print(X_test.shape)\n",
    "print(y_test.shape)"
   ]
  },
  {
   "cell_type": "markdown",
   "id": "0307682a",
   "metadata": {
    "papermill": {
     "duration": 0.032608,
     "end_time": "2021-11-05T15:14:36.287366",
     "exception": false,
     "start_time": "2021-11-05T15:14:36.254758",
     "status": "completed"
    },
    "tags": []
   },
   "source": [
    "## Regression Model"
   ]
  },
  {
   "cell_type": "code",
   "execution_count": 13,
   "id": "757aa9bb",
   "metadata": {
    "execution": {
     "iopub.execute_input": "2021-11-05T15:14:36.368477Z",
     "iopub.status.busy": "2021-11-05T15:14:36.367550Z",
     "iopub.status.idle": "2021-11-05T15:14:36.564013Z",
     "shell.execute_reply": "2021-11-05T15:14:36.565496Z",
     "shell.execute_reply.started": "2021-11-05T15:14:01.033938Z"
    },
    "papermill": {
     "duration": 0.245505,
     "end_time": "2021-11-05T15:14:36.565793",
     "exception": false,
     "start_time": "2021-11-05T15:14:36.320288",
     "status": "completed"
    },
    "tags": []
   },
   "outputs": [
    {
     "name": "stdout",
     "output_type": "stream",
     "text": [
      "CPU times: user 415 ms, sys: 177 ms, total: 591 ms\n",
      "Wall time: 176 ms\n"
     ]
    },
    {
     "data": {
      "text/plain": [
       "0.9568158047905638"
      ]
     },
     "execution_count": 13,
     "metadata": {},
     "output_type": "execute_result"
    }
   ],
   "source": [
    "#Linear Regression\n",
    "lr = LinearRegression()\n",
    "%time lr.fit(X_train, y_train)\n",
    "lr.score(X_test, y_test)"
   ]
  },
  {
   "cell_type": "code",
   "execution_count": 14,
   "id": "28d6e470",
   "metadata": {
    "execution": {
     "iopub.execute_input": "2021-11-05T15:14:36.688710Z",
     "iopub.status.busy": "2021-11-05T15:14:36.688030Z",
     "iopub.status.idle": "2021-11-05T15:14:36.759753Z",
     "shell.execute_reply": "2021-11-05T15:14:36.760824Z",
     "shell.execute_reply.started": "2021-11-05T15:14:01.208756Z"
    },
    "papermill": {
     "duration": 0.132776,
     "end_time": "2021-11-05T15:14:36.761127",
     "exception": false,
     "start_time": "2021-11-05T15:14:36.628351",
     "status": "completed"
    },
    "tags": []
   },
   "outputs": [
    {
     "name": "stdout",
     "output_type": "stream",
     "text": [
      "CPU times: user 89 ms, sys: 53.6 ms, total: 143 ms\n",
      "Wall time: 46.2 ms\n"
     ]
    },
    {
     "data": {
      "text/plain": [
       "0.9860166284931321"
      ]
     },
     "execution_count": 14,
     "metadata": {},
     "output_type": "execute_result"
    }
   ],
   "source": [
    "#Ridge Regression\n",
    "ridge = Ridge(alpha = 0.5)\n",
    "%time ridge.fit(X_train, y_train)\n",
    "ridge.score(X_test, y_test)"
   ]
  },
  {
   "cell_type": "code",
   "execution_count": 15,
   "id": "b0890bed",
   "metadata": {
    "execution": {
     "iopub.execute_input": "2021-11-05T15:14:36.887195Z",
     "iopub.status.busy": "2021-11-05T15:14:36.886402Z",
     "iopub.status.idle": "2021-11-05T15:14:36.978521Z",
     "shell.execute_reply": "2021-11-05T15:14:36.979535Z",
     "shell.execute_reply.started": "2021-11-05T15:14:01.282187Z"
    },
    "papermill": {
     "duration": 0.155009,
     "end_time": "2021-11-05T15:14:36.979828",
     "exception": false,
     "start_time": "2021-11-05T15:14:36.824819",
     "status": "completed"
    },
    "tags": []
   },
   "outputs": [
    {
     "name": "stdout",
     "output_type": "stream",
     "text": [
      "CPU times: user 104 ms, sys: 94.2 ms, total: 198 ms\n",
      "Wall time: 64.3 ms\n"
     ]
    },
    {
     "data": {
      "text/plain": [
       "0.9770076759527755"
      ]
     },
     "execution_count": 15,
     "metadata": {},
     "output_type": "execute_result"
    }
   ],
   "source": [
    "#Lasso Regression\n",
    "lasso = Lasso(alpha = 0.5)\n",
    "%time lasso.fit(X_train, y_train)\n",
    "lasso.score(X_test, y_test)"
   ]
  },
  {
   "cell_type": "markdown",
   "id": "f462dc54",
   "metadata": {
    "papermill": {
     "duration": 0.05443,
     "end_time": "2021-11-05T15:14:37.102053",
     "exception": false,
     "start_time": "2021-11-05T15:14:37.047623",
     "status": "completed"
    },
    "tags": []
   },
   "source": [
    "### Ridge Regression Model is the best score result"
   ]
  },
  {
   "cell_type": "code",
   "execution_count": 16,
   "id": "179dc284",
   "metadata": {
    "execution": {
     "iopub.execute_input": "2021-11-05T15:14:37.186880Z",
     "iopub.status.busy": "2021-11-05T15:14:37.185513Z",
     "iopub.status.idle": "2021-11-05T15:14:37.203047Z",
     "shell.execute_reply": "2021-11-05T15:14:37.204695Z",
     "shell.execute_reply.started": "2021-11-05T15:14:01.375531Z"
    },
    "papermill": {
     "duration": 0.067522,
     "end_time": "2021-11-05T15:14:37.205187",
     "exception": false,
     "start_time": "2021-11-05T15:14:37.137665",
     "status": "completed"
    },
    "tags": []
   },
   "outputs": [
    {
     "name": "stdout",
     "output_type": "stream",
     "text": [
      "[13.12597899  1.58941706 12.13455523 11.65544402 10.08999234  4.41143757\n",
      "  6.73204083 19.12677233 10.38411748 14.92386098 13.75090835 10.3009782\n",
      " 21.19738552  2.72000945  7.56369427 15.33559218  6.68085212 20.38920238\n",
      " 15.18116041 11.62928496 14.58035416  8.51315663 12.16799812 14.5364392\n",
      " 23.29827804 10.78959346 11.7488761  15.87310098 11.616553    9.07988561\n",
      "  4.99575497 17.42607657 11.18109429  6.88142901 12.62353186 13.59087661\n",
      "  2.59045919  6.45648037 15.9375471   3.21219242 13.30190723  9.24760724\n",
      " 10.19362852 17.53716467 16.9406688  16.15719441 20.011873   19.32793485\n",
      " 14.79999149 20.46516702 20.3815435  15.45445451 14.67428366 13.59560637\n",
      " 12.84332665  7.0147745  12.6855369  15.99131895 21.58551069 17.71077721\n",
      " 17.59137796 11.81016776  9.15304026 15.85538604 16.2580727  14.02685813\n",
      "  6.7005738   9.62889069 14.55651622 18.00419587 18.67603966  8.3604134\n",
      " 21.75409131  6.739052   27.93866022 11.88977021  9.89889614 13.68026102\n",
      " 13.32211249  7.19902726 15.2326175  12.80361152  7.04554569 21.69798332\n",
      " 10.61719212 10.27171415 13.21711191  8.01889343 11.68955574 11.28166013\n",
      "  0.20229244 10.99929298 10.97137694 12.94694265 13.67038443 17.95284158\n",
      "  8.75337088  9.54279411 11.94619912 18.75338961 10.7063557  13.7006667\n",
      " 14.14002517 17.1421656  18.55891711 14.50146213 15.63811049 10.90270531\n",
      " 13.58555516 23.57406023 15.12355627 15.65106888 15.00316426 11.97734829\n",
      "  9.443785   10.91169499 16.30317943 12.62820894 12.57314304 12.49010817\n",
      " 17.75680693 13.27493455 15.78322236 16.59516795 12.31555308 13.02433372\n",
      " 13.1119251  10.58865078  4.91689451  1.74422145 15.78731391 14.85697075\n",
      " 14.81949032 17.55024098 10.64144406  8.34898114 13.89500289 20.9019635\n",
      "  9.52004535 13.63912406 19.37537414  7.60578851  5.32019805 12.40927843\n",
      "  2.04472813 20.43525281 13.20813487  6.66171531 11.28732955  6.240741\n",
      " 17.09719959 10.79482321  4.9700669  11.64466082  6.1180428   0.99691599\n",
      " 11.14153332 16.59951301 17.6169934   6.05842521 17.65293821  9.45117988\n",
      " 13.50823898 12.58853559 12.51386908  9.11525707 17.8565164  14.72876722\n",
      "  4.01876557 10.83688385 11.21697456 14.49595915  8.5908926  15.87844822\n",
      " 14.67402814 14.19046293 14.63906572 15.11139625 14.87471622 21.53864454\n",
      " 22.02212377 13.26866694  5.19489468 19.1041978  10.3583549  13.22210802\n",
      "  3.43343092 18.67016592 12.02780176 10.06668887 11.15042202 11.69106448\n",
      " 15.93455292  4.2754302  18.3154001   2.15068947 13.2185351  13.0697553\n",
      " 11.51742602 10.71150462 15.47047474 10.71361884 13.42173587 16.21036189\n",
      "  9.66215413 11.75928343  4.40386395 13.55841257 13.46018038 10.70185891\n",
      " 11.95121008 15.85922802 17.50502434  8.46671935  7.79731232  5.5006357\n",
      " 13.57550446 13.83474366 13.33894991 18.02376124  9.46244253 15.3774836\n",
      " 10.89795791 13.09887467 18.12783735 17.22366238 14.30011076  9.70327717\n",
      "  5.38947909  9.03451396  5.30234596 11.72354408 21.9666565  11.78167199\n",
      "  4.48851235 10.89858123 11.9006368   6.07243768 11.37016961 16.28056552\n",
      " 18.09039293 10.10121057 16.98322071  7.30369642 13.96414984 10.93244682\n",
      "  5.85385943 10.85031186 20.36804442 13.12656291  4.69508063 12.09123885\n",
      " 16.55901427 10.32285517 14.05038554  7.33589872  9.81489564 15.93261269\n",
      " 12.01709049  6.93572559 16.64488312  9.14108205 19.25506799  3.28837537\n",
      " 11.42236367 18.5298136  16.26599601  3.36261658 16.08555586 12.14207316\n",
      "  6.3907168  13.84208015 16.3206273  18.24214137  1.67403759 17.4527597\n",
      "  5.70258118 10.64783651 11.09511523 13.01957471 16.85713965 13.78954387\n",
      " 10.71402826 11.25351427 10.16398623 15.05852413  4.62685336 10.15428702\n",
      "  8.50289263  8.14751067 11.65212936  5.82999405  9.34436787 16.68219735\n",
      "  6.85753141 14.73805112 16.21378846 17.61298063 17.02776636 14.14246535\n",
      "  4.88258554 16.49683725 20.40727807 12.1053595  17.9792342   1.87581153\n",
      " 14.59318143 20.72863263 14.38955964  7.95535925  6.67064404 14.49099323\n",
      " 18.87459205 12.26168092 13.62493662 10.51993646 13.4235347   9.797586\n",
      " 10.35215543 11.99578685 16.33620772]\n"
     ]
    }
   ],
   "source": [
    "#prediction\n",
    "y_pred = ridge.predict(X_test)\n",
    "print(y_pred)"
   ]
  },
  {
   "cell_type": "code",
   "execution_count": 17,
   "id": "ef7739a1",
   "metadata": {
    "execution": {
     "iopub.execute_input": "2021-11-05T15:14:37.330891Z",
     "iopub.status.busy": "2021-11-05T15:14:37.330205Z",
     "iopub.status.idle": "2021-11-05T15:14:37.336067Z",
     "shell.execute_reply": "2021-11-05T15:14:37.335056Z",
     "shell.execute_reply.started": "2021-11-05T15:14:01.404977Z"
    },
    "papermill": {
     "duration": 0.065534,
     "end_time": "2021-11-05T15:14:37.336358",
     "exception": false,
     "start_time": "2021-11-05T15:14:37.270824",
     "status": "completed"
    },
    "tags": []
   },
   "outputs": [
    {
     "name": "stdout",
     "output_type": "stream",
     "text": [
      "Mean Absolute Error :  0.42\n",
      "Mean Squared Error :  0.32\n",
      "Root Mean Squared Error :  0.648074069840786\n"
     ]
    }
   ],
   "source": [
    "#check MAE, MSE & RMSE\n",
    "print('Mean Absolute Error : ', metrics.mean_absolute_error(y_test, y_pred).round(2))\n",
    "print('Mean Squared Error : ', metrics.mean_squared_error(y_test, y_pred).round(2))\n",
    "print('Root Mean Squared Error : ', np.sqrt(metrics.mean_absolute_error(y_test, y_pred).round(2)))"
   ]
  },
  {
   "cell_type": "code",
   "execution_count": 18,
   "id": "dcfff426",
   "metadata": {
    "execution": {
     "iopub.execute_input": "2021-11-05T15:14:37.414065Z",
     "iopub.status.busy": "2021-11-05T15:14:37.413434Z",
     "iopub.status.idle": "2021-11-05T15:14:37.691107Z",
     "shell.execute_reply": "2021-11-05T15:14:37.691643Z",
     "shell.execute_reply.started": "2021-11-05T15:14:01.417870Z"
    },
    "papermill": {
     "duration": 0.317099,
     "end_time": "2021-11-05T15:14:37.691815",
     "exception": false,
     "start_time": "2021-11-05T15:14:37.374716",
     "status": "completed"
    },
    "tags": []
   },
   "outputs": [
    {
     "name": "stderr",
     "output_type": "stream",
     "text": [
      "/opt/conda/lib/python3.7/site-packages/seaborn/distributions.py:2619: FutureWarning: `distplot` is a deprecated function and will be removed in a future version. Please adapt your code to use either `displot` (a figure-level function with similar flexibility) or `histplot` (an axes-level function for histograms).\n",
      "  warnings.warn(msg, FutureWarning)\n"
     ]
    },
    {
     "data": {
      "image/png": "[encoded data removed]",
      "text/plain": [
       "<Figure size 720x432 with 1 Axes>"
      ]
     },
     "metadata": {
      "needs_background": "light"
     },
     "output_type": "display_data"
    }
   ],
   "source": [
    "#distribution\n",
    "plt.figure(figsize = (10,6))\n",
    "sns.distplot(df['pts'], color = 'r')\n",
    "plt.title(\"Distribution of Points\")\n",
    "plt.show()"
   ]
  },
  {
   "cell_type": "markdown",
   "id": "1d71a95b",
   "metadata": {
    "papermill": {
     "duration": 0.036751,
     "end_time": "2021-11-05T15:14:37.766160",
     "exception": false,
     "start_time": "2021-11-05T15:14:37.729409",
     "status": "completed"
    },
    "tags": []
   },
   "source": [
    "## Check Feature Importance"
   ]
  },
  {
   "cell_type": "code",
   "execution_count": 19,
   "id": "3d2cebf0",
   "metadata": {
    "execution": {
     "iopub.execute_input": "2021-11-05T15:14:37.845179Z",
     "iopub.status.busy": "2021-11-05T15:14:37.844506Z",
     "iopub.status.idle": "2021-11-05T15:14:37.849958Z",
     "shell.execute_reply": "2021-11-05T15:14:37.850541Z",
     "shell.execute_reply.started": "2021-11-05T15:14:01.712949Z"
    },
    "papermill": {
     "duration": 0.046108,
     "end_time": "2021-11-05T15:14:37.850722",
     "exception": false,
     "start_time": "2021-11-05T15:14:37.804614",
     "status": "completed"
    },
    "tags": []
   },
   "outputs": [],
   "source": [
    "#defining feature\n",
    "coef = pd.Series(ridge.coef_, index = X.columns)\n",
    "\n",
    "imp_coef = pd.concat([coef.sort_values().head(10),\n",
    "                     coef.sort_values().tail(10)])"
   ]
  },
  {
   "cell_type": "code",
   "execution_count": 20,
   "id": "4f35016e",
   "metadata": {
    "execution": {
     "iopub.execute_input": "2021-11-05T15:14:37.929068Z",
     "iopub.status.busy": "2021-11-05T15:14:37.928443Z",
     "iopub.status.idle": "2021-11-05T15:14:38.293368Z",
     "shell.execute_reply": "2021-11-05T15:14:38.292661Z",
     "shell.execute_reply.started": "2021-11-05T15:14:01.719655Z"
    },
    "papermill": {
     "duration": 0.404758,
     "end_time": "2021-11-05T15:14:38.293520",
     "exception": false,
     "start_time": "2021-11-05T15:14:37.888762",
     "status": "completed"
    },
    "tags": []
   },
   "outputs": [
    {
     "data": {
      "image/png": "[encoded data removed]",
      "text/plain": [
       "<Figure size 720x432 with 1 Axes>"
      ]
     },
     "metadata": {
      "needs_background": "light"
     },
     "output_type": "display_data"
    }
   ],
   "source": [
    "#visualize feature\n",
    "plt.figure(figsize = (10,6))\n",
    "imp_coef.plot(kind = 'barh', color = 'darkorange')\n",
    "plt.title(\"Feature Importance\")\n",
    "plt.xlabel('Score')\n",
    "plt.ylabel('Features')\n",
    "plt.show()"
   ]
  },
  {
   "cell_type": "markdown",
   "id": "ea300d85",
   "metadata": {
    "papermill": {
     "duration": 0.040284,
     "end_time": "2021-11-05T15:14:38.372544",
     "exception": false,
     "start_time": "2021-11-05T15:14:38.332260",
     "status": "completed"
    },
    "tags": []
   },
   "source": [
    "## Visualization"
   ]
  },
  {
   "cell_type": "code",
   "execution_count": 21,
   "id": "323c9794",
   "metadata": {
    "execution": {
     "iopub.execute_input": "2021-11-05T15:14:38.459372Z",
     "iopub.status.busy": "2021-11-05T15:14:38.458638Z",
     "iopub.status.idle": "2021-11-05T15:14:38.785436Z",
     "shell.execute_reply": "2021-11-05T15:14:38.785939Z",
     "shell.execute_reply.started": "2021-11-05T15:14:02.054981Z"
    },
    "papermill": {
     "duration": 0.372972,
     "end_time": "2021-11-05T15:14:38.786132",
     "exception": false,
     "start_time": "2021-11-05T15:14:38.413160",
     "status": "completed"
    },
    "tags": []
   },
   "outputs": [
    {
     "name": "stderr",
     "output_type": "stream",
     "text": [
      "/opt/conda/lib/python3.7/site-packages/seaborn/_decorators.py:43: FutureWarning: Pass the following variable as a keyword arg: x. From version 0.12, the only valid positional argument will be `data`, and passing other arguments without an explicit keyword will result in an error or misinterpretation.\n",
      "  FutureWarning\n"
     ]
    },
    {
     "data": {
      "image/png": "[encoded data removed]",
      "text/plain": [
       "<Figure size 720x432 with 1 Axes>"
      ]
     },
     "metadata": {
      "needs_background": "light"
     },
     "output_type": "display_data"
    }
   ],
   "source": [
    "#visualize conference\n",
    "plt.figure(figsize = (10,6))\n",
    "chart = sns.countplot(point['conf'], palette = 'Set1')\n",
    "chart.set_xticklabels(chart.get_xticklabels(), rotation = 45)\n",
    "plt.title(\"Conference\")\n",
    "plt.show()"
   ]
  },
  {
   "cell_type": "code",
   "execution_count": 22,
   "id": "7b097e39",
   "metadata": {
    "execution": {
     "iopub.execute_input": "2021-11-05T15:14:38.878626Z",
     "iopub.status.busy": "2021-11-05T15:14:38.877535Z",
     "iopub.status.idle": "2021-11-05T15:14:39.431561Z",
     "shell.execute_reply": "2021-11-05T15:14:39.432268Z",
     "shell.execute_reply.started": "2021-11-05T15:14:02.363848Z"
    },
    "papermill": {
     "duration": 0.606226,
     "end_time": "2021-11-05T15:14:39.432480",
     "exception": false,
     "start_time": "2021-11-05T15:14:38.826254",
     "status": "completed"
    },
    "tags": []
   },
   "outputs": [
    {
     "data": {
      "image/png": "[encoded data removed]",
      "text/plain": [
       "<Figure size 720x432 with 1 Axes>"
      ]
     },
     "metadata": {
      "needs_background": "light"
     },
     "output_type": "display_data"
    }
   ],
   "source": [
    "#visualize conference ~ points\n",
    "plt.figure(figsize = (10,6))\n",
    "chart = sns.boxplot(data = point, x = 'conf', y = 'pts', palette = 'Set2')\n",
    "chart.set_xticklabels(chart.get_xticklabels(), rotation = 45)\n",
    "plt.title(\"Conference ~ Points\")\n",
    "plt.show()"
   ]
  },
  {
   "cell_type": "code",
   "execution_count": 23,
   "id": "4a4c7418",
   "metadata": {
    "execution": {
     "iopub.execute_input": "2021-11-05T15:14:39.520645Z",
     "iopub.status.busy": "2021-11-05T15:14:39.519910Z",
     "iopub.status.idle": "2021-11-05T15:14:39.719277Z",
     "shell.execute_reply": "2021-11-05T15:14:39.719797Z",
     "shell.execute_reply.started": "2021-11-05T15:14:02.882194Z"
    },
    "papermill": {
     "duration": 0.244443,
     "end_time": "2021-11-05T15:14:39.719966",
     "exception": false,
     "start_time": "2021-11-05T15:14:39.475523",
     "status": "completed"
    },
    "tags": []
   },
   "outputs": [
    {
     "name": "stderr",
     "output_type": "stream",
     "text": [
      "/opt/conda/lib/python3.7/site-packages/seaborn/_decorators.py:43: FutureWarning: Pass the following variable as a keyword arg: x. From version 0.12, the only valid positional argument will be `data`, and passing other arguments without an explicit keyword will result in an error or misinterpretation.\n",
      "  FutureWarning\n"
     ]
    },
    {
     "data": {
      "image/png": "[encoded data removed]",
      "text/plain": [
       "<Figure size 576x432 with 1 Axes>"
      ]
     },
     "metadata": {
      "needs_background": "light"
     },
     "output_type": "display_data"
    }
   ],
   "source": [
    "#visualize year of college\n",
    "plt.figure(figsize = (8,6))\n",
    "sns.countplot(point['yr'])\n",
    "plt.title(\"Year of College\")\n",
    "plt.show()"
   ]
  },
  {
   "cell_type": "code",
   "execution_count": 24,
   "id": "8b49c3c9",
   "metadata": {
    "execution": {
     "iopub.execute_input": "2021-11-05T15:14:39.812510Z",
     "iopub.status.busy": "2021-11-05T15:14:39.811753Z",
     "iopub.status.idle": "2021-11-05T15:14:40.046372Z",
     "shell.execute_reply": "2021-11-05T15:14:40.045687Z",
     "shell.execute_reply.started": "2021-11-05T15:14:03.070576Z"
    },
    "papermill": {
     "duration": 0.283927,
     "end_time": "2021-11-05T15:14:40.046520",
     "exception": false,
     "start_time": "2021-11-05T15:14:39.762593",
     "status": "completed"
    },
    "tags": []
   },
   "outputs": [
    {
     "data": {
      "image/png": "[encoded data removed]",
      "text/plain": [
       "<Figure size 576x432 with 1 Axes>"
      ]
     },
     "metadata": {
      "needs_background": "light"
     },
     "output_type": "display_data"
    }
   ],
   "source": [
    "#visualize year of college ~ point\n",
    "plt.figure(figsize = (8,6))\n",
    "sns.boxplot(data = point, x = 'yr', y = 'pts', palette = 'Set1')\n",
    "plt.title(\"Year of College\")\n",
    "plt.show()"
   ]
  },
  {
   "cell_type": "code",
   "execution_count": 25,
   "id": "54915ef3",
   "metadata": {
    "execution": {
     "iopub.execute_input": "2021-11-05T15:14:40.140730Z",
     "iopub.status.busy": "2021-11-05T15:14:40.140008Z",
     "iopub.status.idle": "2021-11-05T15:14:40.361480Z",
     "shell.execute_reply": "2021-11-05T15:14:40.360879Z",
     "shell.execute_reply.started": "2021-11-05T15:14:03.298449Z"
    },
    "papermill": {
     "duration": 0.272172,
     "end_time": "2021-11-05T15:14:40.361623",
     "exception": false,
     "start_time": "2021-11-05T15:14:40.089451",
     "status": "completed"
    },
    "tags": []
   },
   "outputs": [
    {
     "name": "stderr",
     "output_type": "stream",
     "text": [
      "/opt/conda/lib/python3.7/site-packages/seaborn/_decorators.py:43: FutureWarning: Pass the following variable as a keyword arg: x. From version 0.12, the only valid positional argument will be `data`, and passing other arguments without an explicit keyword will result in an error or misinterpretation.\n",
      "  FutureWarning\n"
     ]
    },
    {
     "data": {
      "image/png": "[encoded data removed]",
      "text/plain": [
       "<Figure size 720x432 with 1 Axes>"
      ]
     },
     "metadata": {
      "needs_background": "light"
     },
     "output_type": "display_data"
    }
   ],
   "source": [
    "#visualize role position\n",
    "plt.figure(figsize = (10,6))\n",
    "sns.countplot(point['role_position'], palette = 'Set2')\n",
    "plt.title(\"Role Position\")\n",
    "plt.show()"
   ]
  },
  {
   "cell_type": "code",
   "execution_count": 26,
   "id": "d44720d6",
   "metadata": {
    "execution": {
     "iopub.execute_input": "2021-11-05T15:14:40.453653Z",
     "iopub.status.busy": "2021-11-05T15:14:40.452897Z",
     "iopub.status.idle": "2021-11-05T15:14:40.909545Z",
     "shell.execute_reply": "2021-11-05T15:14:40.908848Z",
     "shell.execute_reply.started": "2021-11-05T15:14:03.507167Z"
    },
    "papermill": {
     "duration": 0.503919,
     "end_time": "2021-11-05T15:14:40.909737",
     "exception": false,
     "start_time": "2021-11-05T15:14:40.405818",
     "status": "completed"
    },
    "tags": []
   },
   "outputs": [
    {
     "data": {
      "image/png": "[encoded data removed]",
      "text/plain": [
       "<Figure size 720x432 with 1 Axes>"
      ]
     },
     "metadata": {
      "needs_background": "light"
     },
     "output_type": "display_data"
    }
   ],
   "source": [
    "#visualize role position ~ point\n",
    "plt.figure(figsize = (10,6))\n",
    "sns.boxplot(data = point, x = 'role_position', y = 'pts')\n",
    "plt.title(\"Role Position ~ Points\")\n",
    "plt.show()"
   ]
  },
  {
   "cell_type": "code",
   "execution_count": 27,
   "id": "13d5ddd2",
   "metadata": {
    "execution": {
     "iopub.execute_input": "2021-11-05T15:14:41.005566Z",
     "iopub.status.busy": "2021-11-05T15:14:41.004804Z",
     "iopub.status.idle": "2021-11-05T15:14:41.013572Z",
     "shell.execute_reply": "2021-11-05T15:14:41.014254Z",
     "shell.execute_reply.started": "2021-11-05T15:14:03.961189Z"
    },
    "papermill": {
     "duration": 0.059552,
     "end_time": "2021-11-05T15:14:41.014433",
     "exception": false,
     "start_time": "2021-11-05T15:14:40.954881",
     "status": "completed"
    },
    "tags": []
   },
   "outputs": [
    {
     "name": "stdout",
     "output_type": "stream",
     "text": [
      "   role_position  yr  Count\n",
      "0              C  Fr     77\n",
      "1              C  Jr     34\n",
      "2              C  So     43\n",
      "3              C  Sr     24\n",
      "4        Combo G  Fr     45\n",
      "5        Combo G  Jr     29\n",
      "6        Combo G  So     28\n",
      "7        Combo G  Sr     15\n",
      "8           PF/C  Fr     59\n",
      "9           PF/C  Jr     30\n",
      "10          PF/C  So     46\n",
      "11          PF/C  Sr     19\n",
      "12       Pure PG  Fr      8\n",
      "13       Pure PG  Jr      4\n",
      "14       Pure PG  So     11\n",
      "15       Pure PG  Sr      8\n",
      "16    Scoring PG  Fr     32\n",
      "17    Scoring PG  Jr     21\n",
      "18    Scoring PG  So     35\n",
      "19    Scoring PG  Sr     14\n",
      "20     Stretch 4  Fr     27\n",
      "21     Stretch 4  Jr     13\n",
      "22     Stretch 4  So     17\n",
      "23     Stretch 4  Sr      8\n",
      "24        Wing F  Fr     59\n",
      "25        Wing F  Jr     33\n",
      "26        Wing F  So     45\n",
      "27        Wing F  Sr     22\n",
      "28        Wing G  Fr     98\n",
      "29        Wing G  Jr     53\n",
      "30        Wing G  So     84\n",
      "31        Wing G  Sr     26\n"
     ]
    }
   ],
   "source": [
    "#group role position & year of college\n",
    "role_year = point.groupby(['role_position', 'yr']).size().reset_index(name = 'Count')\n",
    "print(role_year)"
   ]
  },
  {
   "cell_type": "code",
   "execution_count": 28,
   "id": "c0e2c82f",
   "metadata": {
    "execution": {
     "iopub.execute_input": "2021-11-05T15:14:41.166921Z",
     "iopub.status.busy": "2021-11-05T15:14:41.166240Z",
     "iopub.status.idle": "2021-11-05T15:14:41.558637Z",
     "shell.execute_reply": "2021-11-05T15:14:41.557948Z",
     "shell.execute_reply.started": "2021-11-05T15:14:03.972921Z"
    },
    "papermill": {
     "duration": 0.439782,
     "end_time": "2021-11-05T15:14:41.558779",
     "exception": false,
     "start_time": "2021-11-05T15:14:41.118997",
     "status": "completed"
    },
    "tags": []
   },
   "outputs": [
    {
     "data": {
      "image/png": "[encoded data removed]",
      "text/plain": [
       "<Figure size 864x432 with 1 Axes>"
      ]
     },
     "metadata": {
      "needs_background": "light"
     },
     "output_type": "display_data"
    }
   ],
   "source": [
    "#visualize role position ~ Year of College\n",
    "plt.figure(figsize = (12,6))\n",
    "sns.barplot(x = 'role_position', y = 'Count', hue = 'yr', data = role_year, palette = 'Set1')\n",
    "plt.title(\"Role Position ~ Year of College\")\n",
    "plt.legend(bbox_to_anchor = (1.08, 1), borderaxespad = 0)\n",
    "plt.show()"
   ]
  }
 ],
 "metadata": {
  "kernelspec": {
   "display_name": "Python 3 (ipykernel)",
   "language": "python",
   "name": "python3"
  },
  "language_info": {
   "codemirror_mode": {
    "name": "ipython",
    "version": 3
   },
   "file_extension": ".py",
   "mimetype": "text/x-python",
   "name": "python",
   "nbconvert_exporter": "python",
   "pygments_lexer": "ipython3",
   "version": "3.10.12"
  },
  "papermill": {
   "default_parameters": {},
   "duration": 20.644401,
   "end_time": "2021-11-05T15:14:42.416471",
   "environment_variables": {},
   "exception": null,
   "input_path": "__notebook__.ipynb",
   "output_path": "__notebook__.ipynb",
   "parameters": {},
   "start_time": "2021-11-05T15:14:21.772070",
   "version": "2.3.3"
  }
 },
 "nbformat": 4,
 "nbformat_minor": 5
}
