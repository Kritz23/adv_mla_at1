{
 "cells": [
  {
   "cell_type": "markdown",
   "metadata": {
    "id": "uQ6wc2HE0pke"
   },
   "source": [
    "# **AT1- Kaggle Competition Week 1: Advance MLA**\n",
    "\n"
   ]
  },
  {
   "cell_type": "markdown",
   "metadata": {
    "id": "i0-NkSgfZDLx"
   },
   "source": [
    "\n",
    "## 1. Load and Explore Dataset\n",
    "\n"
   ]
  },
  {
   "cell_type": "markdown",
   "metadata": {
    "id": "ZKpy4XYth-Ie"
   },
   "source": [
    "**[1.1]** Launch magic commands to automatically reload modules"
   ]
  },
  {
   "cell_type": "code",
   "execution_count": 1,
   "metadata": {
    "id": "py2Wrp6Zh-QG"
   },
   "outputs": [],
   "source": [
    "%load_ext autoreload\n",
    "%autoreload 2"
   ]
  },
  {
   "cell_type": "markdown",
   "metadata": {
    "id": "4JI0kZJxpkoK"
   },
   "source": [
    "**[1.2]** Import the pandas and numpy package"
   ]
  },
  {
   "cell_type": "code",
   "execution_count": 2,
   "metadata": {
    "id": "85PHb6M7p57j"
   },
   "outputs": [],
   "source": [
    "#import library\n",
    "import numpy as np\n",
    "import pandas as pd\n",
    "import seaborn as sns\n",
    "import matplotlib.pyplot as plt"
   ]
  },
  {
   "cell_type": "markdown",
   "metadata": {
    "id": "R-Zy6Oq8pkuB"
   },
   "source": [
    "**[1.3]** Load the dataset into dataframe called df_train"
   ]
  },
  {
   "cell_type": "code",
   "execution_count": 3,
   "metadata": {
    "id": "ulxGw0rxrwt-",
    "tags": []
   },
   "outputs": [
    {
     "name": "stderr",
     "output_type": "stream",
     "text": [
      "/var/folders/9j/gbzf9fpd7_v0wb8s40h7d7n80000gn/T/ipykernel_79876/13833444.py:1: DtypeWarning: Columns (26) have mixed types. Specify dtype option on import or set low_memory=False.\n",
      "  df_train = pd.read_csv('../data/raw/train.csv')\n"
     ]
    }
   ],
   "source": [
    "df_train = pd.read_csv('../data/raw/train.csv')"
   ]
  },
  {
   "cell_type": "code",
   "execution_count": 4,
   "metadata": {},
   "outputs": [],
   "source": [
    "# Reading test data into df_test\n",
    "df_test = pd.read_csv('../data/raw/test.csv')"
   ]
  },
  {
   "cell_type": "markdown",
   "metadata": {
    "id": "WJxrfRRMswrf"
   },
   "source": [
    "**[2.4]** Display the first 5 rows of df"
   ]
  },
  {
   "cell_type": "code",
   "execution_count": 5,
   "metadata": {
    "colab": {
     "base_uri": "https://localhost:8080/",
     "height": 206
    },
    "id": "ZtwZkUUksxCP",
    "outputId": "b1ee9ea1-2f32-45e7-bde5-b98d4bbfddb0",
    "tags": []
   },
   "outputs": [
    {
     "data": {
      "text/html": [
       "<div>\n",
       "<style scoped>\n",
       "    .dataframe tbody tr th:only-of-type {\n",
       "        vertical-align: middle;\n",
       "    }\n",
       "\n",
       "    .dataframe tbody tr th {\n",
       "        vertical-align: top;\n",
       "    }\n",
       "\n",
       "    .dataframe thead th {\n",
       "        text-align: right;\n",
       "    }\n",
       "</style>\n",
       "<table border=\"1\" class=\"dataframe\">\n",
       "  <thead>\n",
       "    <tr style=\"text-align: right;\">\n",
       "      <th></th>\n",
       "      <th>team</th>\n",
       "      <th>conf</th>\n",
       "      <th>GP</th>\n",
       "      <th>Min_per</th>\n",
       "      <th>Ortg</th>\n",
       "      <th>usg</th>\n",
       "      <th>eFG</th>\n",
       "      <th>TS_per</th>\n",
       "      <th>ORB_per</th>\n",
       "      <th>DRB_per</th>\n",
       "      <th>...</th>\n",
       "      <th>dgbpm</th>\n",
       "      <th>oreb</th>\n",
       "      <th>dreb</th>\n",
       "      <th>treb</th>\n",
       "      <th>ast</th>\n",
       "      <th>stl</th>\n",
       "      <th>blk</th>\n",
       "      <th>pts</th>\n",
       "      <th>player_id</th>\n",
       "      <th>drafted</th>\n",
       "    </tr>\n",
       "  </thead>\n",
       "  <tbody>\n",
       "    <tr>\n",
       "      <th>0</th>\n",
       "      <td>South Alabama</td>\n",
       "      <td>SB</td>\n",
       "      <td>26</td>\n",
       "      <td>29.5</td>\n",
       "      <td>97.3</td>\n",
       "      <td>16.6</td>\n",
       "      <td>42.5</td>\n",
       "      <td>44.43</td>\n",
       "      <td>1.6</td>\n",
       "      <td>4.6</td>\n",
       "      <td>...</td>\n",
       "      <td>-1.941150</td>\n",
       "      <td>0.1923</td>\n",
       "      <td>0.6154</td>\n",
       "      <td>0.8077</td>\n",
       "      <td>1.1923</td>\n",
       "      <td>0.3462</td>\n",
       "      <td>0.0385</td>\n",
       "      <td>3.8846</td>\n",
       "      <td>7be2aead-da4e-4d13-a74b-4c1e692e2368</td>\n",
       "      <td>0.0</td>\n",
       "    </tr>\n",
       "    <tr>\n",
       "      <th>1</th>\n",
       "      <td>Utah St.</td>\n",
       "      <td>WAC</td>\n",
       "      <td>34</td>\n",
       "      <td>60.9</td>\n",
       "      <td>108.3</td>\n",
       "      <td>14.9</td>\n",
       "      <td>52.4</td>\n",
       "      <td>54.48</td>\n",
       "      <td>3.8</td>\n",
       "      <td>6.3</td>\n",
       "      <td>...</td>\n",
       "      <td>-0.247934</td>\n",
       "      <td>0.6765</td>\n",
       "      <td>1.2647</td>\n",
       "      <td>1.9412</td>\n",
       "      <td>1.8235</td>\n",
       "      <td>0.4118</td>\n",
       "      <td>0.2353</td>\n",
       "      <td>5.9412</td>\n",
       "      <td>61de55d9-1582-4ea4-b593-44f6aa6524a6</td>\n",
       "      <td>0.0</td>\n",
       "    </tr>\n",
       "    <tr>\n",
       "      <th>2</th>\n",
       "      <td>South Florida</td>\n",
       "      <td>BE</td>\n",
       "      <td>27</td>\n",
       "      <td>72.0</td>\n",
       "      <td>96.2</td>\n",
       "      <td>21.8</td>\n",
       "      <td>45.7</td>\n",
       "      <td>47.98</td>\n",
       "      <td>2.1</td>\n",
       "      <td>8.0</td>\n",
       "      <td>...</td>\n",
       "      <td>-0.883163</td>\n",
       "      <td>0.6296</td>\n",
       "      <td>2.3333</td>\n",
       "      <td>2.9630</td>\n",
       "      <td>1.9630</td>\n",
       "      <td>0.4815</td>\n",
       "      <td>0.0000</td>\n",
       "      <td>12.1852</td>\n",
       "      <td>efdc4cfc-9dd0-4bf8-acef-7273e4d5b655</td>\n",
       "      <td>0.0</td>\n",
       "    </tr>\n",
       "    <tr>\n",
       "      <th>3</th>\n",
       "      <td>Pepperdine</td>\n",
       "      <td>WCC</td>\n",
       "      <td>30</td>\n",
       "      <td>44.5</td>\n",
       "      <td>97.7</td>\n",
       "      <td>16.0</td>\n",
       "      <td>53.6</td>\n",
       "      <td>53.69</td>\n",
       "      <td>4.1</td>\n",
       "      <td>9.4</td>\n",
       "      <td>...</td>\n",
       "      <td>-0.393459</td>\n",
       "      <td>0.7000</td>\n",
       "      <td>1.4333</td>\n",
       "      <td>2.1333</td>\n",
       "      <td>1.1000</td>\n",
       "      <td>0.5667</td>\n",
       "      <td>0.1333</td>\n",
       "      <td>4.9333</td>\n",
       "      <td>14f05660-bb3c-4868-b3dd-09bcdb64279d</td>\n",
       "      <td>0.0</td>\n",
       "    </tr>\n",
       "    <tr>\n",
       "      <th>4</th>\n",
       "      <td>Pacific</td>\n",
       "      <td>BW</td>\n",
       "      <td>33</td>\n",
       "      <td>56.2</td>\n",
       "      <td>96.5</td>\n",
       "      <td>22.0</td>\n",
       "      <td>52.8</td>\n",
       "      <td>54.31</td>\n",
       "      <td>8.3</td>\n",
       "      <td>18.6</td>\n",
       "      <td>...</td>\n",
       "      <td>-0.668318</td>\n",
       "      <td>1.4242</td>\n",
       "      <td>3.3030</td>\n",
       "      <td>4.7273</td>\n",
       "      <td>0.8485</td>\n",
       "      <td>0.4545</td>\n",
       "      <td>0.3333</td>\n",
       "      <td>7.5758</td>\n",
       "      <td>a58db52f-fbba-4e7b-83d0-371efcfed039</td>\n",
       "      <td>0.0</td>\n",
       "    </tr>\n",
       "  </tbody>\n",
       "</table>\n",
       "<p>5 rows × 64 columns</p>\n",
       "</div>"
      ],
      "text/plain": [
       "            team conf  GP  Min_per   Ortg   usg   eFG  TS_per  ORB_per  \\\n",
       "0  South Alabama   SB  26     29.5   97.3  16.6  42.5   44.43      1.6   \n",
       "1       Utah St.  WAC  34     60.9  108.3  14.9  52.4   54.48      3.8   \n",
       "2  South Florida   BE  27     72.0   96.2  21.8  45.7   47.98      2.1   \n",
       "3     Pepperdine  WCC  30     44.5   97.7  16.0  53.6   53.69      4.1   \n",
       "4        Pacific   BW  33     56.2   96.5  22.0  52.8   54.31      8.3   \n",
       "\n",
       "   DRB_per  ...     dgbpm    oreb    dreb    treb     ast     stl     blk  \\\n",
       "0      4.6  ... -1.941150  0.1923  0.6154  0.8077  1.1923  0.3462  0.0385   \n",
       "1      6.3  ... -0.247934  0.6765  1.2647  1.9412  1.8235  0.4118  0.2353   \n",
       "2      8.0  ... -0.883163  0.6296  2.3333  2.9630  1.9630  0.4815  0.0000   \n",
       "3      9.4  ... -0.393459  0.7000  1.4333  2.1333  1.1000  0.5667  0.1333   \n",
       "4     18.6  ... -0.668318  1.4242  3.3030  4.7273  0.8485  0.4545  0.3333   \n",
       "\n",
       "       pts                             player_id  drafted  \n",
       "0   3.8846  7be2aead-da4e-4d13-a74b-4c1e692e2368      0.0  \n",
       "1   5.9412  61de55d9-1582-4ea4-b593-44f6aa6524a6      0.0  \n",
       "2  12.1852  efdc4cfc-9dd0-4bf8-acef-7273e4d5b655      0.0  \n",
       "3   4.9333  14f05660-bb3c-4868-b3dd-09bcdb64279d      0.0  \n",
       "4   7.5758  a58db52f-fbba-4e7b-83d0-371efcfed039      0.0  \n",
       "\n",
       "[5 rows x 64 columns]"
      ]
     },
     "execution_count": 5,
     "metadata": {},
     "output_type": "execute_result"
    }
   ],
   "source": [
    "df_train.head()"
   ]
  },
  {
   "cell_type": "markdown",
   "metadata": {
    "id": "6zQ6t_6Es2F3"
   },
   "source": [
    "**[2.5]** Display the dimensions (shape) of df"
   ]
  },
  {
   "cell_type": "code",
   "execution_count": 6,
   "metadata": {
    "colab": {
     "base_uri": "https://localhost:8080/"
    },
    "id": "EzYCSDO4s2Zo",
    "outputId": "32c8d160-363d-4cdd-a5c0-4f063b6c363f",
    "tags": []
   },
   "outputs": [
    {
     "data": {
      "text/plain": [
       "(56091, 64)"
      ]
     },
     "execution_count": 6,
     "metadata": {},
     "output_type": "execute_result"
    }
   ],
   "source": [
    "df_train.shape"
   ]
  },
  {
   "cell_type": "markdown",
   "metadata": {
    "id": "_M_vXlAhs-ic"
   },
   "source": [
    "**[2.6]** Display the summary (info) of df"
   ]
  },
  {
   "cell_type": "code",
   "execution_count": 7,
   "metadata": {
    "colab": {
     "base_uri": "https://localhost:8080/"
    },
    "id": "JYJuOJ3zs-qX",
    "outputId": "e5ec5aa4-f883-4dd3-897e-83aa89b56730",
    "scrolled": true,
    "tags": []
   },
   "outputs": [
    {
     "name": "stdout",
     "output_type": "stream",
     "text": [
      "<class 'pandas.core.frame.DataFrame'>\n",
      "RangeIndex: 56091 entries, 0 to 56090\n",
      "Data columns (total 64 columns):\n",
      " #   Column               Non-Null Count  Dtype  \n",
      "---  ------               --------------  -----  \n",
      " 0   team                 56091 non-null  object \n",
      " 1   conf                 56091 non-null  object \n",
      " 2   GP                   56091 non-null  int64  \n",
      " 3   Min_per              56091 non-null  float64\n",
      " 4   Ortg                 56091 non-null  float64\n",
      " 5   usg                  56091 non-null  float64\n",
      " 6   eFG                  56091 non-null  float64\n",
      " 7   TS_per               56091 non-null  float64\n",
      " 8   ORB_per              56091 non-null  float64\n",
      " 9   DRB_per              56091 non-null  float64\n",
      " 10  AST_per              56091 non-null  float64\n",
      " 11  TO_per               56091 non-null  float64\n",
      " 12  FTM                  56091 non-null  int64  \n",
      " 13  FTA                  56091 non-null  int64  \n",
      " 14  FT_per               56091 non-null  float64\n",
      " 15  twoPM                56091 non-null  int64  \n",
      " 16  twoPA                56091 non-null  int64  \n",
      " 17  twoP_per             56091 non-null  float64\n",
      " 18  TPM                  56091 non-null  int64  \n",
      " 19  TPA                  56091 non-null  int64  \n",
      " 20  TP_per               56091 non-null  float64\n",
      " 21  blk_per              56091 non-null  float64\n",
      " 22  stl_per              56091 non-null  float64\n",
      " 23  ftr                  56091 non-null  float64\n",
      " 24  yr                   55817 non-null  object \n",
      " 25  ht                   56011 non-null  object \n",
      " 26  num                  51422 non-null  object \n",
      " 27  porpag               56091 non-null  float64\n",
      " 28  adjoe                56091 non-null  float64\n",
      " 29  pfr                  56091 non-null  float64\n",
      " 30  year                 56091 non-null  int64  \n",
      " 31  type                 56091 non-null  object \n",
      " 32  Rec_Rank             17036 non-null  float64\n",
      " 33  ast_tov              51901 non-null  float64\n",
      " 34  rimmade              50010 non-null  float64\n",
      " 35  rimmade_rimmiss      50010 non-null  float64\n",
      " 36  midmade              50010 non-null  float64\n",
      " 37  midmade_midmiss      50010 non-null  float64\n",
      " 38  rim_ratio            46627 non-null  float64\n",
      " 39  mid_ratio            46403 non-null  float64\n",
      " 40  dunksmade            50010 non-null  float64\n",
      " 41  dunksmiss_dunksmade  50010 non-null  float64\n",
      " 42  dunks_ratio          25298 non-null  float64\n",
      " 43  pick                 1386 non-null   float64\n",
      " 44  drtg                 56047 non-null  float64\n",
      " 45  adrtg                56047 non-null  float64\n",
      " 46  dporpag              56047 non-null  float64\n",
      " 47  stops                56047 non-null  float64\n",
      " 48  bpm                  56047 non-null  float64\n",
      " 49  obpm                 56047 non-null  float64\n",
      " 50  dbpm                 56047 non-null  float64\n",
      " 51  gbpm                 56047 non-null  float64\n",
      " 52  mp                   56053 non-null  float64\n",
      " 53  ogbpm                56047 non-null  float64\n",
      " 54  dgbpm                56047 non-null  float64\n",
      " 55  oreb                 56053 non-null  float64\n",
      " 56  dreb                 56053 non-null  float64\n",
      " 57  treb                 56053 non-null  float64\n",
      " 58  ast                  56053 non-null  float64\n",
      " 59  stl                  56053 non-null  float64\n",
      " 60  blk                  56053 non-null  float64\n",
      " 61  pts                  56053 non-null  float64\n",
      " 62  player_id            56091 non-null  object \n",
      " 63  drafted              56091 non-null  float64\n",
      "dtypes: float64(49), int64(8), object(7)\n",
      "memory usage: 27.4+ MB\n"
     ]
    }
   ],
   "source": [
    "df_train.info()"
   ]
  },
  {
   "cell_type": "markdown",
   "metadata": {
    "id": "wuoUg5u6tHa0"
   },
   "source": [
    "**[2.7]** Display the descriptive statistics of df\n"
   ]
  },
  {
   "cell_type": "code",
   "execution_count": 8,
   "metadata": {
    "colab": {
     "base_uri": "https://localhost:8080/",
     "height": 394
    },
    "id": "LrRcdf68tHmY",
    "outputId": "18213798-a607-425c-c23b-d54b604c9657",
    "scrolled": true,
    "tags": []
   },
   "outputs": [
    {
     "data": {
      "text/html": [
       "<div>\n",
       "<style scoped>\n",
       "    .dataframe tbody tr th:only-of-type {\n",
       "        vertical-align: middle;\n",
       "    }\n",
       "\n",
       "    .dataframe tbody tr th {\n",
       "        vertical-align: top;\n",
       "    }\n",
       "\n",
       "    .dataframe thead th {\n",
       "        text-align: right;\n",
       "    }\n",
       "</style>\n",
       "<table border=\"1\" class=\"dataframe\">\n",
       "  <thead>\n",
       "    <tr style=\"text-align: right;\">\n",
       "      <th></th>\n",
       "      <th>team</th>\n",
       "      <th>conf</th>\n",
       "      <th>GP</th>\n",
       "      <th>Min_per</th>\n",
       "      <th>Ortg</th>\n",
       "      <th>usg</th>\n",
       "      <th>eFG</th>\n",
       "      <th>TS_per</th>\n",
       "      <th>ORB_per</th>\n",
       "      <th>DRB_per</th>\n",
       "      <th>...</th>\n",
       "      <th>dgbpm</th>\n",
       "      <th>oreb</th>\n",
       "      <th>dreb</th>\n",
       "      <th>treb</th>\n",
       "      <th>ast</th>\n",
       "      <th>stl</th>\n",
       "      <th>blk</th>\n",
       "      <th>pts</th>\n",
       "      <th>player_id</th>\n",
       "      <th>drafted</th>\n",
       "    </tr>\n",
       "  </thead>\n",
       "  <tbody>\n",
       "    <tr>\n",
       "      <th>count</th>\n",
       "      <td>56091</td>\n",
       "      <td>56091</td>\n",
       "      <td>56091.000000</td>\n",
       "      <td>56091.000000</td>\n",
       "      <td>56091.000000</td>\n",
       "      <td>56091.000000</td>\n",
       "      <td>56091.000000</td>\n",
       "      <td>56091.000000</td>\n",
       "      <td>56091.000000</td>\n",
       "      <td>56091.000000</td>\n",
       "      <td>...</td>\n",
       "      <td>56047.000000</td>\n",
       "      <td>56053.000000</td>\n",
       "      <td>56053.000000</td>\n",
       "      <td>56053.000000</td>\n",
       "      <td>56053.000000</td>\n",
       "      <td>56053.000000</td>\n",
       "      <td>56053.000000</td>\n",
       "      <td>56053.000000</td>\n",
       "      <td>56091</td>\n",
       "      <td>56091.000000</td>\n",
       "    </tr>\n",
       "    <tr>\n",
       "      <th>unique</th>\n",
       "      <td>358</td>\n",
       "      <td>36</td>\n",
       "      <td>NaN</td>\n",
       "      <td>NaN</td>\n",
       "      <td>NaN</td>\n",
       "      <td>NaN</td>\n",
       "      <td>NaN</td>\n",
       "      <td>NaN</td>\n",
       "      <td>NaN</td>\n",
       "      <td>NaN</td>\n",
       "      <td>...</td>\n",
       "      <td>NaN</td>\n",
       "      <td>NaN</td>\n",
       "      <td>NaN</td>\n",
       "      <td>NaN</td>\n",
       "      <td>NaN</td>\n",
       "      <td>NaN</td>\n",
       "      <td>NaN</td>\n",
       "      <td>NaN</td>\n",
       "      <td>23929</td>\n",
       "      <td>NaN</td>\n",
       "    </tr>\n",
       "    <tr>\n",
       "      <th>top</th>\n",
       "      <td>Army</td>\n",
       "      <td>ACC</td>\n",
       "      <td>NaN</td>\n",
       "      <td>NaN</td>\n",
       "      <td>NaN</td>\n",
       "      <td>NaN</td>\n",
       "      <td>NaN</td>\n",
       "      <td>NaN</td>\n",
       "      <td>NaN</td>\n",
       "      <td>NaN</td>\n",
       "      <td>...</td>\n",
       "      <td>NaN</td>\n",
       "      <td>NaN</td>\n",
       "      <td>NaN</td>\n",
       "      <td>NaN</td>\n",
       "      <td>NaN</td>\n",
       "      <td>NaN</td>\n",
       "      <td>NaN</td>\n",
       "      <td>NaN</td>\n",
       "      <td>06dc8dc2-888e-4941-9106-4798cddfb9d2</td>\n",
       "      <td>NaN</td>\n",
       "    </tr>\n",
       "    <tr>\n",
       "      <th>freq</th>\n",
       "      <td>209</td>\n",
       "      <td>2297</td>\n",
       "      <td>NaN</td>\n",
       "      <td>NaN</td>\n",
       "      <td>NaN</td>\n",
       "      <td>NaN</td>\n",
       "      <td>NaN</td>\n",
       "      <td>NaN</td>\n",
       "      <td>NaN</td>\n",
       "      <td>NaN</td>\n",
       "      <td>...</td>\n",
       "      <td>NaN</td>\n",
       "      <td>NaN</td>\n",
       "      <td>NaN</td>\n",
       "      <td>NaN</td>\n",
       "      <td>NaN</td>\n",
       "      <td>NaN</td>\n",
       "      <td>NaN</td>\n",
       "      <td>NaN</td>\n",
       "      <td>6</td>\n",
       "      <td>NaN</td>\n",
       "    </tr>\n",
       "    <tr>\n",
       "      <th>mean</th>\n",
       "      <td>NaN</td>\n",
       "      <td>NaN</td>\n",
       "      <td>23.411973</td>\n",
       "      <td>37.325229</td>\n",
       "      <td>91.858295</td>\n",
       "      <td>18.149265</td>\n",
       "      <td>44.575513</td>\n",
       "      <td>47.676882</td>\n",
       "      <td>5.575376</td>\n",
       "      <td>12.673716</td>\n",
       "      <td>...</td>\n",
       "      <td>-0.442297</td>\n",
       "      <td>0.770611</td>\n",
       "      <td>1.892593</td>\n",
       "      <td>2.663204</td>\n",
       "      <td>1.073038</td>\n",
       "      <td>0.529475</td>\n",
       "      <td>0.282825</td>\n",
       "      <td>5.775381</td>\n",
       "      <td>NaN</td>\n",
       "      <td>0.009556</td>\n",
       "    </tr>\n",
       "    <tr>\n",
       "      <th>std</th>\n",
       "      <td>NaN</td>\n",
       "      <td>NaN</td>\n",
       "      <td>10.090542</td>\n",
       "      <td>28.061897</td>\n",
       "      <td>30.538819</td>\n",
       "      <td>6.204489</td>\n",
       "      <td>18.213813</td>\n",
       "      <td>17.414133</td>\n",
       "      <td>9.480239</td>\n",
       "      <td>10.878099</td>\n",
       "      <td>...</td>\n",
       "      <td>3.279438</td>\n",
       "      <td>0.738899</td>\n",
       "      <td>1.479148</td>\n",
       "      <td>2.099913</td>\n",
       "      <td>1.171148</td>\n",
       "      <td>0.469152</td>\n",
       "      <td>0.417754</td>\n",
       "      <td>4.953723</td>\n",
       "      <td>NaN</td>\n",
       "      <td>0.097287</td>\n",
       "    </tr>\n",
       "    <tr>\n",
       "      <th>min</th>\n",
       "      <td>NaN</td>\n",
       "      <td>NaN</td>\n",
       "      <td>1.000000</td>\n",
       "      <td>0.000000</td>\n",
       "      <td>0.000000</td>\n",
       "      <td>0.000000</td>\n",
       "      <td>0.000000</td>\n",
       "      <td>0.000000</td>\n",
       "      <td>0.000000</td>\n",
       "      <td>0.000000</td>\n",
       "      <td>...</td>\n",
       "      <td>-100.984000</td>\n",
       "      <td>0.000000</td>\n",
       "      <td>0.000000</td>\n",
       "      <td>0.000000</td>\n",
       "      <td>0.000000</td>\n",
       "      <td>0.000000</td>\n",
       "      <td>0.000000</td>\n",
       "      <td>0.000000</td>\n",
       "      <td>NaN</td>\n",
       "      <td>0.000000</td>\n",
       "    </tr>\n",
       "    <tr>\n",
       "      <th>25%</th>\n",
       "      <td>NaN</td>\n",
       "      <td>NaN</td>\n",
       "      <td>16.000000</td>\n",
       "      <td>9.500000</td>\n",
       "      <td>84.100000</td>\n",
       "      <td>14.500000</td>\n",
       "      <td>40.100000</td>\n",
       "      <td>43.930000</td>\n",
       "      <td>1.800000</td>\n",
       "      <td>8.400000</td>\n",
       "      <td>...</td>\n",
       "      <td>-1.728030</td>\n",
       "      <td>0.225800</td>\n",
       "      <td>0.700000</td>\n",
       "      <td>1.000000</td>\n",
       "      <td>0.222200</td>\n",
       "      <td>0.160000</td>\n",
       "      <td>0.000000</td>\n",
       "      <td>1.571400</td>\n",
       "      <td>NaN</td>\n",
       "      <td>0.000000</td>\n",
       "    </tr>\n",
       "    <tr>\n",
       "      <th>50%</th>\n",
       "      <td>NaN</td>\n",
       "      <td>NaN</td>\n",
       "      <td>28.000000</td>\n",
       "      <td>35.900000</td>\n",
       "      <td>97.100000</td>\n",
       "      <td>18.100000</td>\n",
       "      <td>47.700000</td>\n",
       "      <td>50.850000</td>\n",
       "      <td>4.300000</td>\n",
       "      <td>11.900000</td>\n",
       "      <td>...</td>\n",
       "      <td>-0.313051</td>\n",
       "      <td>0.545500</td>\n",
       "      <td>1.633300</td>\n",
       "      <td>2.259300</td>\n",
       "      <td>0.677400</td>\n",
       "      <td>0.424200</td>\n",
       "      <td>0.133300</td>\n",
       "      <td>4.482800</td>\n",
       "      <td>NaN</td>\n",
       "      <td>0.000000</td>\n",
       "    </tr>\n",
       "    <tr>\n",
       "      <th>75%</th>\n",
       "      <td>NaN</td>\n",
       "      <td>NaN</td>\n",
       "      <td>31.000000</td>\n",
       "      <td>62.200000</td>\n",
       "      <td>106.900000</td>\n",
       "      <td>21.800000</td>\n",
       "      <td>53.200000</td>\n",
       "      <td>56.060000</td>\n",
       "      <td>8.100000</td>\n",
       "      <td>16.000000</td>\n",
       "      <td>...</td>\n",
       "      <td>1.066415</td>\n",
       "      <td>1.111100</td>\n",
       "      <td>2.758600</td>\n",
       "      <td>3.833300</td>\n",
       "      <td>1.533300</td>\n",
       "      <td>0.793100</td>\n",
       "      <td>0.366700</td>\n",
       "      <td>9.069000</td>\n",
       "      <td>NaN</td>\n",
       "      <td>0.000000</td>\n",
       "    </tr>\n",
       "    <tr>\n",
       "      <th>max</th>\n",
       "      <td>NaN</td>\n",
       "      <td>NaN</td>\n",
       "      <td>41.000000</td>\n",
       "      <td>98.000000</td>\n",
       "      <td>834.000000</td>\n",
       "      <td>50.000000</td>\n",
       "      <td>150.000000</td>\n",
       "      <td>150.000000</td>\n",
       "      <td>1576.600000</td>\n",
       "      <td>1385.000000</td>\n",
       "      <td>...</td>\n",
       "      <td>78.985500</td>\n",
       "      <td>5.933300</td>\n",
       "      <td>11.545500</td>\n",
       "      <td>14.533300</td>\n",
       "      <td>10.000000</td>\n",
       "      <td>4.000000</td>\n",
       "      <td>5.258100</td>\n",
       "      <td>30.090900</td>\n",
       "      <td>NaN</td>\n",
       "      <td>1.000000</td>\n",
       "    </tr>\n",
       "  </tbody>\n",
       "</table>\n",
       "<p>11 rows × 64 columns</p>\n",
       "</div>"
      ],
      "text/plain": [
       "         team   conf            GP       Min_per          Ortg           usg  \\\n",
       "count   56091  56091  56091.000000  56091.000000  56091.000000  56091.000000   \n",
       "unique    358     36           NaN           NaN           NaN           NaN   \n",
       "top      Army    ACC           NaN           NaN           NaN           NaN   \n",
       "freq      209   2297           NaN           NaN           NaN           NaN   \n",
       "mean      NaN    NaN     23.411973     37.325229     91.858295     18.149265   \n",
       "std       NaN    NaN     10.090542     28.061897     30.538819      6.204489   \n",
       "min       NaN    NaN      1.000000      0.000000      0.000000      0.000000   \n",
       "25%       NaN    NaN     16.000000      9.500000     84.100000     14.500000   \n",
       "50%       NaN    NaN     28.000000     35.900000     97.100000     18.100000   \n",
       "75%       NaN    NaN     31.000000     62.200000    106.900000     21.800000   \n",
       "max       NaN    NaN     41.000000     98.000000    834.000000     50.000000   \n",
       "\n",
       "                 eFG        TS_per       ORB_per       DRB_per  ...  \\\n",
       "count   56091.000000  56091.000000  56091.000000  56091.000000  ...   \n",
       "unique           NaN           NaN           NaN           NaN  ...   \n",
       "top              NaN           NaN           NaN           NaN  ...   \n",
       "freq             NaN           NaN           NaN           NaN  ...   \n",
       "mean       44.575513     47.676882      5.575376     12.673716  ...   \n",
       "std        18.213813     17.414133      9.480239     10.878099  ...   \n",
       "min         0.000000      0.000000      0.000000      0.000000  ...   \n",
       "25%        40.100000     43.930000      1.800000      8.400000  ...   \n",
       "50%        47.700000     50.850000      4.300000     11.900000  ...   \n",
       "75%        53.200000     56.060000      8.100000     16.000000  ...   \n",
       "max       150.000000    150.000000   1576.600000   1385.000000  ...   \n",
       "\n",
       "               dgbpm          oreb          dreb          treb           ast  \\\n",
       "count   56047.000000  56053.000000  56053.000000  56053.000000  56053.000000   \n",
       "unique           NaN           NaN           NaN           NaN           NaN   \n",
       "top              NaN           NaN           NaN           NaN           NaN   \n",
       "freq             NaN           NaN           NaN           NaN           NaN   \n",
       "mean       -0.442297      0.770611      1.892593      2.663204      1.073038   \n",
       "std         3.279438      0.738899      1.479148      2.099913      1.171148   \n",
       "min      -100.984000      0.000000      0.000000      0.000000      0.000000   \n",
       "25%        -1.728030      0.225800      0.700000      1.000000      0.222200   \n",
       "50%        -0.313051      0.545500      1.633300      2.259300      0.677400   \n",
       "75%         1.066415      1.111100      2.758600      3.833300      1.533300   \n",
       "max        78.985500      5.933300     11.545500     14.533300     10.000000   \n",
       "\n",
       "                 stl           blk           pts  \\\n",
       "count   56053.000000  56053.000000  56053.000000   \n",
       "unique           NaN           NaN           NaN   \n",
       "top              NaN           NaN           NaN   \n",
       "freq             NaN           NaN           NaN   \n",
       "mean        0.529475      0.282825      5.775381   \n",
       "std         0.469152      0.417754      4.953723   \n",
       "min         0.000000      0.000000      0.000000   \n",
       "25%         0.160000      0.000000      1.571400   \n",
       "50%         0.424200      0.133300      4.482800   \n",
       "75%         0.793100      0.366700      9.069000   \n",
       "max         4.000000      5.258100     30.090900   \n",
       "\n",
       "                                   player_id       drafted  \n",
       "count                                  56091  56091.000000  \n",
       "unique                                 23929           NaN  \n",
       "top     06dc8dc2-888e-4941-9106-4798cddfb9d2           NaN  \n",
       "freq                                       6           NaN  \n",
       "mean                                     NaN      0.009556  \n",
       "std                                      NaN      0.097287  \n",
       "min                                      NaN      0.000000  \n",
       "25%                                      NaN      0.000000  \n",
       "50%                                      NaN      0.000000  \n",
       "75%                                      NaN      0.000000  \n",
       "max                                      NaN      1.000000  \n",
       "\n",
       "[11 rows x 64 columns]"
      ]
     },
     "execution_count": 8,
     "metadata": {},
     "output_type": "execute_result"
    }
   ],
   "source": [
    "df_train.describe(include='all')"
   ]
  },
  {
   "cell_type": "code",
   "execution_count": 9,
   "metadata": {},
   "outputs": [
    {
     "data": {
      "text/plain": [
       "<Axes: xlabel='drafted', ylabel='count'>"
      ]
     },
     "execution_count": 9,
     "metadata": {},
     "output_type": "execute_result"
    },
    {
     "data": {
      "image/png": "[encoded data removed]",
      "text/plain": [
       "<Figure size 640x480 with 1 Axes>"
      ]
     },
     "metadata": {},
     "output_type": "display_data"
    }
   ],
   "source": [
    "# Distribution of target variable\n",
    "sns.countplot(x='drafted', data=df_train)"
   ]
  },
  {
   "cell_type": "code",
   "execution_count": 10,
   "metadata": {},
   "outputs": [
    {
     "data": {
      "text/plain": [
       "0.0    55555\n",
       "1.0      536\n",
       "Name: drafted, dtype: int64"
      ]
     },
     "execution_count": 10,
     "metadata": {},
     "output_type": "execute_result"
    }
   ],
   "source": [
    "# Count the number of target value\n",
    "df_train['drafted'].value_counts()"
   ]
  },
  {
   "cell_type": "markdown",
   "metadata": {},
   "source": [
    "**Note:** Only 0.9% of the players have been drafted into NBA league out of the total data samples given. This leaves us a room for data oversampling and splitting data into train/val correctly. "
   ]
  },
  {
   "cell_type": "markdown",
   "metadata": {
    "id": "tPHsDYeOtl5l"
   },
   "source": [
    "## 2. Prepare Data"
   ]
  },
  {
   "cell_type": "markdown",
   "metadata": {
    "id": "zJl_X7dzyZBU"
   },
   "source": [
    "**[2.1]** Create a copy of df and save it into a variable called df_cleaned"
   ]
  },
  {
   "cell_type": "code",
   "execution_count": 11,
   "metadata": {
    "id": "94SIRiRYyDOZ",
    "tags": []
   },
   "outputs": [],
   "source": [
    "df_cleaned = df_train.copy()"
   ]
  },
  {
   "cell_type": "markdown",
   "metadata": {},
   "source": [
    "**[2.2]** Check null values "
   ]
  },
  {
   "cell_type": "code",
   "execution_count": 12,
   "metadata": {
    "scrolled": true
   },
   "outputs": [
    {
     "data": {
      "text/plain": [
       "<Axes: >"
      ]
     },
     "execution_count": 12,
     "metadata": {},
     "output_type": "execute_result"
    },
    {
     "data": {
      "image/png": "[encoded data removed]",
      "text/plain": [
       "<Figure size 1000x500 with 1 Axes>"
      ]
     },
     "metadata": {},
     "output_type": "display_data"
    }
   ],
   "source": [
    "# plot bar graph for null count\n",
    "(df_cleaned.isnull().sum()).plot(kind='bar', figsize=(10, 5))"
   ]
  },
  {
   "cell_type": "markdown",
   "metadata": {},
   "source": [
    "**[2.3]** Check duplicate values "
   ]
  },
  {
   "cell_type": "code",
   "execution_count": 13,
   "metadata": {},
   "outputs": [
    {
     "name": "stdout",
     "output_type": "stream",
     "text": [
      "32162\n"
     ]
    }
   ],
   "source": [
    "#check for any duplicate rows in df\n",
    "print(df_cleaned.duplicated(subset=['player_id']).sum())"
   ]
  },
  {
   "cell_type": "code",
   "execution_count": 14,
   "metadata": {},
   "outputs": [],
   "source": [
    "#remove duplicates\n",
    "df_cleaned = df_cleaned.loc[~df_cleaned.duplicated(['player_id']), :]"
   ]
  },
  {
   "cell_type": "code",
   "execution_count": 15,
   "metadata": {},
   "outputs": [
    {
     "name": "stdout",
     "output_type": "stream",
     "text": [
      "0\n"
     ]
    }
   ],
   "source": [
    "# check for duplicates after\n",
    "print(df_cleaned.duplicated(subset=['player_id']).sum())"
   ]
  },
  {
   "cell_type": "markdown",
   "metadata": {},
   "source": [
    "**[2.4]** Remove high missing values column and unnecessary features. From the metadata, we see that player number i.e \"num\" column is not imp and \"ht\" (height of the player) is incorrect. Similarly columns with very high percentage of missing values should be removed. "
   ]
  },
  {
   "cell_type": "code",
   "execution_count": 16,
   "metadata": {},
   "outputs": [],
   "source": [
    "df_cleaned = df_cleaned.drop(['team','num', 'Rec_Rank', 'dunks_ratio', 'pick', 'ht', 'player_id', 'mid_ratio', \\\n",
    "                              'rim_ratio', 'rimmade', 'rimmade_rimmiss','midmade','midmade_midmiss', 'ast_tov', \\\n",
    "                             'dunksmade', 'dunksmiss_dunksmade'], axis=1) "
   ]
  },
  {
   "cell_type": "code",
   "execution_count": 17,
   "metadata": {},
   "outputs": [],
   "source": [
    "# copying test data into a separate dataframe\n",
    "df_test_clean = df_test.copy()"
   ]
  },
  {
   "cell_type": "markdown",
   "metadata": {},
   "source": [
    "#### We need to remove the same columns from the test set and perform label encoding and scaling as we did for train set in order to evaluate the model"
   ]
  },
  {
   "cell_type": "code",
   "execution_count": 18,
   "metadata": {},
   "outputs": [],
   "source": [
    "df_test_clean = df_test_clean.drop(['team', 'num', 'Rec_Rank', 'dunks_ratio', 'pick', 'ht', 'player_id', 'mid_ratio', \\\n",
    "                              'rim_ratio', 'rimmade', 'rimmade_rimmiss','midmade','midmade_midmiss', 'ast_tov', \\\n",
    "                             'dunksmade', 'dunksmiss_dunksmade'], axis=1)"
   ]
  },
  {
   "cell_type": "markdown",
   "metadata": {
    "id": "r8FMzCVyyQb8"
   },
   "source": [
    "**[2.5]** Extract the column `drafted` and save it into variable called `target`"
   ]
  },
  {
   "cell_type": "code",
   "execution_count": 19,
   "metadata": {
    "id": "EAMfTpGoyQu3",
    "tags": []
   },
   "outputs": [],
   "source": [
    "target = df_cleaned.pop('drafted')"
   ]
  },
  {
   "cell_type": "markdown",
   "metadata": {},
   "source": [
    "**[2.6]** Replace `NaN` values with 0"
   ]
  },
  {
   "cell_type": "code",
   "execution_count": 20,
   "metadata": {},
   "outputs": [],
   "source": [
    "# Replace NaN values with 0\n",
    "df_cleaned = df_cleaned.fillna(0)\n",
    "df_test_clean = df_test_clean.fillna(0)"
   ]
  },
  {
   "cell_type": "code",
   "execution_count": 21,
   "metadata": {},
   "outputs": [
    {
     "data": {
      "text/plain": [
       "\"\\nfeatures = ['porpag', 'dunksmade', 'dunksmiss_dunksmade', 'dporpag', 'twoPM',            'FTM', 'FTA', 'twoPA', 'midmade', 'midmade_midmiss']\\n\\ndf_cleaned = df_cleaned[features]\\n#df_test = df_test[features]\\n\""
      ]
     },
     "execution_count": 21,
     "metadata": {},
     "output_type": "execute_result"
    }
   ],
   "source": [
    "\"\"\"\n",
    "features = ['porpag', 'dunksmade', 'dunksmiss_dunksmade', 'dporpag', 'twoPM',\\\n",
    "            'FTM', 'FTA', 'twoPA', 'midmade', 'midmade_midmiss']\n",
    "\n",
    "df_cleaned = df_cleaned[features]\n",
    "#df_test = df_test[features]\n",
    "\"\"\""
   ]
  },
  {
   "cell_type": "code",
   "execution_count": 22,
   "metadata": {},
   "outputs": [
    {
     "data": {
      "text/plain": [
       "\"\\ncorr_with_target = df_train.drop(columns='drafted').corrwith(df_train['drafted'])\\nsns.heatmap(pd.DataFrame(corr_with_target))\\n\""
      ]
     },
     "execution_count": 22,
     "metadata": {},
     "output_type": "execute_result"
    }
   ],
   "source": [
    "\"\"\"\n",
    "corr_with_target = df_train.drop(columns='drafted').corrwith(df_train['drafted'])\n",
    "sns.heatmap(pd.DataFrame(corr_with_target))\n",
    "\"\"\""
   ]
  },
  {
   "cell_type": "code",
   "execution_count": 23,
   "metadata": {},
   "outputs": [],
   "source": [
    "#corr_with_target.sort_values(ascending=False)"
   ]
  },
  {
   "cell_type": "markdown",
   "metadata": {},
   "source": [
    "## 3. Preprocess data"
   ]
  },
  {
   "cell_type": "markdown",
   "metadata": {
    "id": "VCodIpkcOwR2"
   },
   "source": [
    "**[3.1]** Create 2 lists named `num_cols` and `cat_cols` containing respectively the names of numerical and categotical columns"
   ]
  },
  {
   "cell_type": "code",
   "execution_count": 24,
   "metadata": {
    "id": "sEkkD_ReOwft",
    "tags": []
   },
   "outputs": [],
   "source": [
    "num_cols = list(df_cleaned.select_dtypes('number').columns)\n",
    "cat_cols = list(set(df_cleaned.columns) - set(num_cols))"
   ]
  },
  {
   "cell_type": "code",
   "execution_count": 25,
   "metadata": {},
   "outputs": [
    {
     "data": {
      "text/plain": [
       "['yr', 'conf', 'type']"
      ]
     },
     "execution_count": 25,
     "metadata": {},
     "output_type": "execute_result"
    }
   ],
   "source": [
    "cat_cols"
   ]
  },
  {
   "cell_type": "markdown",
   "metadata": {
    "id": "OxkQudqwzz7z"
   },
   "source": [
    "**[3.2]** Import StandardScaler from sklearn.preprocessing"
   ]
  },
  {
   "cell_type": "code",
   "execution_count": 26,
   "metadata": {
    "id": "AOBX83aKz0Rl",
    "tags": []
   },
   "outputs": [],
   "source": [
    "from sklearn.preprocessing import StandardScaler, OneHotEncoder"
   ]
  },
  {
   "cell_type": "markdown",
   "metadata": {
    "id": "FbcFeCTkPorv"
   },
   "source": [
    "**[3.3]** Instantiate the OneHotEncoder"
   ]
  },
  {
   "cell_type": "code",
   "execution_count": 27,
   "metadata": {},
   "outputs": [],
   "source": [
    "ohe = OneHotEncoder(sparse_output=False, drop='first')"
   ]
  },
  {
   "cell_type": "code",
   "execution_count": 28,
   "metadata": {},
   "outputs": [],
   "source": [
    "features = ohe.fit_transform(df_cleaned[cat_cols].astype(str))"
   ]
  },
  {
   "cell_type": "code",
   "execution_count": 29,
   "metadata": {},
   "outputs": [],
   "source": [
    "features = pd.DataFrame(features, columns=ohe.get_feature_names_out())"
   ]
  },
  {
   "cell_type": "code",
   "execution_count": 30,
   "metadata": {},
   "outputs": [
    {
     "data": {
      "text/plain": [
       "(23929, 41)"
      ]
     },
     "execution_count": 30,
     "metadata": {},
     "output_type": "execute_result"
    }
   ],
   "source": [
    "features.shape"
   ]
  },
  {
   "cell_type": "code",
   "execution_count": 31,
   "metadata": {},
   "outputs": [],
   "source": [
    "df_test_en = ohe.transform(df_test_clean[cat_cols].astype(str))\n",
    "df_test_features = pd.DataFrame(df_test_en, columns=ohe.get_feature_names_out())"
   ]
  },
  {
   "cell_type": "code",
   "execution_count": 32,
   "metadata": {
    "id": "A6zSD_4QPo1M",
    "tags": []
   },
   "outputs": [
    {
     "data": {
      "text/plain": [
       "'le = LabelEncoder()\\n\\n# Apply LabelEncoder to categorical columns\\nfor column in cat_cols:\\n    df_cleaned[column] = le.fit_transform(df_cleaned[column].astype(str))'"
      ]
     },
     "execution_count": 32,
     "metadata": {},
     "output_type": "execute_result"
    }
   ],
   "source": [
    "\"\"\"le = LabelEncoder()\n",
    "\n",
    "# Apply LabelEncoder to categorical columns\n",
    "for column in cat_cols:\n",
    "    df_cleaned[column] = le.fit_transform(df_cleaned[column].astype(str))\"\"\""
   ]
  },
  {
   "cell_type": "markdown",
   "metadata": {
    "id": "zD-FwMOP0ESC"
   },
   "source": [
    "**[3.4]** Instantiate the StandardScaler"
   ]
  },
  {
   "cell_type": "code",
   "execution_count": 33,
   "metadata": {
    "id": "JfiKbw1E0Ee5",
    "tags": []
   },
   "outputs": [],
   "source": [
    "scaler = StandardScaler()"
   ]
  },
  {
   "cell_type": "markdown",
   "metadata": {
    "id": "L8Tgk3ZW0RGA"
   },
   "source": [
    "**[3.5]** Fit and apply the scaling on `df` and add the results into `features`"
   ]
  },
  {
   "cell_type": "code",
   "execution_count": 34,
   "metadata": {
    "id": "D1gz4fwW0RUQ",
    "tags": []
   },
   "outputs": [],
   "source": [
    "features[num_cols] = scaler.fit_transform(df_cleaned[num_cols])"
   ]
  },
  {
   "cell_type": "code",
   "execution_count": 35,
   "metadata": {},
   "outputs": [],
   "source": [
    "df_test_features[num_cols] = scaler.transform(df_test_clean[num_cols])"
   ]
  },
  {
   "cell_type": "code",
   "execution_count": 36,
   "metadata": {},
   "outputs": [
    {
     "data": {
      "text/plain": [
       "((23929, 85), (4970, 85))"
      ]
     },
     "execution_count": 36,
     "metadata": {},
     "output_type": "execute_result"
    }
   ],
   "source": [
    "features.shape, df_test_features.shape"
   ]
  },
  {
   "cell_type": "code",
   "execution_count": 37,
   "metadata": {
    "id": "iiwnHCeyMPug",
    "tags": []
   },
   "outputs": [
    {
     "data": {
      "text/html": [
       "<div>\n",
       "<style scoped>\n",
       "    .dataframe tbody tr th:only-of-type {\n",
       "        vertical-align: middle;\n",
       "    }\n",
       "\n",
       "    .dataframe tbody tr th {\n",
       "        vertical-align: top;\n",
       "    }\n",
       "\n",
       "    .dataframe thead th {\n",
       "        text-align: right;\n",
       "    }\n",
       "</style>\n",
       "<table border=\"1\" class=\"dataframe\">\n",
       "  <thead>\n",
       "    <tr style=\"text-align: right;\">\n",
       "      <th></th>\n",
       "      <th>yr_42.9</th>\n",
       "      <th>yr_Fr</th>\n",
       "      <th>yr_Jr</th>\n",
       "      <th>yr_None</th>\n",
       "      <th>yr_So</th>\n",
       "      <th>yr_Sr</th>\n",
       "      <th>conf_ACC</th>\n",
       "      <th>conf_AE</th>\n",
       "      <th>conf_ASun</th>\n",
       "      <th>conf_Amer</th>\n",
       "      <th>...</th>\n",
       "      <th>mp</th>\n",
       "      <th>ogbpm</th>\n",
       "      <th>dgbpm</th>\n",
       "      <th>oreb</th>\n",
       "      <th>dreb</th>\n",
       "      <th>treb</th>\n",
       "      <th>ast</th>\n",
       "      <th>stl</th>\n",
       "      <th>blk</th>\n",
       "      <th>pts</th>\n",
       "    </tr>\n",
       "  </thead>\n",
       "  <tbody>\n",
       "    <tr>\n",
       "      <th>0</th>\n",
       "      <td>0.0</td>\n",
       "      <td>0.0</td>\n",
       "      <td>0.0</td>\n",
       "      <td>0.0</td>\n",
       "      <td>1.0</td>\n",
       "      <td>0.0</td>\n",
       "      <td>0.0</td>\n",
       "      <td>0.0</td>\n",
       "      <td>0.0</td>\n",
       "      <td>0.0</td>\n",
       "      <td>...</td>\n",
       "      <td>0.117089</td>\n",
       "      <td>0.050873</td>\n",
       "      <td>-0.301151</td>\n",
       "      <td>-0.661848</td>\n",
       "      <td>-0.653320</td>\n",
       "      <td>-0.689401</td>\n",
       "      <td>0.409273</td>\n",
       "      <td>-0.166336</td>\n",
       "      <td>-0.509531</td>\n",
       "      <td>-0.077387</td>\n",
       "    </tr>\n",
       "    <tr>\n",
       "      <th>1</th>\n",
       "      <td>0.0</td>\n",
       "      <td>0.0</td>\n",
       "      <td>0.0</td>\n",
       "      <td>0.0</td>\n",
       "      <td>1.0</td>\n",
       "      <td>0.0</td>\n",
       "      <td>0.0</td>\n",
       "      <td>0.0</td>\n",
       "      <td>0.0</td>\n",
       "      <td>0.0</td>\n",
       "      <td>...</td>\n",
       "      <td>1.144428</td>\n",
       "      <td>0.433763</td>\n",
       "      <td>0.143012</td>\n",
       "      <td>0.079485</td>\n",
       "      <td>-0.136570</td>\n",
       "      <td>-0.065842</td>\n",
       "      <td>1.059038</td>\n",
       "      <td>-0.009172</td>\n",
       "      <td>0.039167</td>\n",
       "      <td>0.424240</td>\n",
       "    </tr>\n",
       "    <tr>\n",
       "      <th>2</th>\n",
       "      <td>0.0</td>\n",
       "      <td>0.0</td>\n",
       "      <td>0.0</td>\n",
       "      <td>0.0</td>\n",
       "      <td>0.0</td>\n",
       "      <td>1.0</td>\n",
       "      <td>0.0</td>\n",
       "      <td>0.0</td>\n",
       "      <td>0.0</td>\n",
       "      <td>0.0</td>\n",
       "      <td>...</td>\n",
       "      <td>2.037917</td>\n",
       "      <td>0.658259</td>\n",
       "      <td>-0.023621</td>\n",
       "      <td>0.007679</td>\n",
       "      <td>0.713882</td>\n",
       "      <td>0.496269</td>\n",
       "      <td>1.202641</td>\n",
       "      <td>0.157815</td>\n",
       "      <td>-0.616873</td>\n",
       "      <td>1.947222</td>\n",
       "    </tr>\n",
       "    <tr>\n",
       "      <th>3</th>\n",
       "      <td>0.0</td>\n",
       "      <td>0.0</td>\n",
       "      <td>0.0</td>\n",
       "      <td>0.0</td>\n",
       "      <td>0.0</td>\n",
       "      <td>1.0</td>\n",
       "      <td>0.0</td>\n",
       "      <td>0.0</td>\n",
       "      <td>0.0</td>\n",
       "      <td>0.0</td>\n",
       "      <td>...</td>\n",
       "      <td>0.466998</td>\n",
       "      <td>0.393014</td>\n",
       "      <td>0.104838</td>\n",
       "      <td>0.115465</td>\n",
       "      <td>-0.002389</td>\n",
       "      <td>0.039836</td>\n",
       "      <td>0.314258</td>\n",
       "      <td>0.361936</td>\n",
       "      <td>-0.245219</td>\n",
       "      <td>0.178402</td>\n",
       "    </tr>\n",
       "    <tr>\n",
       "      <th>4</th>\n",
       "      <td>0.0</td>\n",
       "      <td>0.0</td>\n",
       "      <td>0.0</td>\n",
       "      <td>0.0</td>\n",
       "      <td>0.0</td>\n",
       "      <td>1.0</td>\n",
       "      <td>0.0</td>\n",
       "      <td>0.0</td>\n",
       "      <td>0.0</td>\n",
       "      <td>0.0</td>\n",
       "      <td>...</td>\n",
       "      <td>0.977174</td>\n",
       "      <td>0.204764</td>\n",
       "      <td>0.032737</td>\n",
       "      <td>1.224249</td>\n",
       "      <td>1.485624</td>\n",
       "      <td>1.466844</td>\n",
       "      <td>0.055361</td>\n",
       "      <td>0.093128</td>\n",
       "      <td>0.312400</td>\n",
       "      <td>0.822937</td>\n",
       "    </tr>\n",
       "  </tbody>\n",
       "</table>\n",
       "<p>5 rows × 85 columns</p>\n",
       "</div>"
      ],
      "text/plain": [
       "   yr_42.9  yr_Fr  yr_Jr  yr_None  yr_So  yr_Sr  conf_ACC  conf_AE  conf_ASun  \\\n",
       "0      0.0    0.0    0.0      0.0    1.0    0.0       0.0      0.0        0.0   \n",
       "1      0.0    0.0    0.0      0.0    1.0    0.0       0.0      0.0        0.0   \n",
       "2      0.0    0.0    0.0      0.0    0.0    1.0       0.0      0.0        0.0   \n",
       "3      0.0    0.0    0.0      0.0    0.0    1.0       0.0      0.0        0.0   \n",
       "4      0.0    0.0    0.0      0.0    0.0    1.0       0.0      0.0        0.0   \n",
       "\n",
       "   conf_Amer  ...        mp     ogbpm     dgbpm      oreb      dreb      treb  \\\n",
       "0        0.0  ...  0.117089  0.050873 -0.301151 -0.661848 -0.653320 -0.689401   \n",
       "1        0.0  ...  1.144428  0.433763  0.143012  0.079485 -0.136570 -0.065842   \n",
       "2        0.0  ...  2.037917  0.658259 -0.023621  0.007679  0.713882  0.496269   \n",
       "3        0.0  ...  0.466998  0.393014  0.104838  0.115465 -0.002389  0.039836   \n",
       "4        0.0  ...  0.977174  0.204764  0.032737  1.224249  1.485624  1.466844   \n",
       "\n",
       "        ast       stl       blk       pts  \n",
       "0  0.409273 -0.166336 -0.509531 -0.077387  \n",
       "1  1.059038 -0.009172  0.039167  0.424240  \n",
       "2  1.202641  0.157815 -0.616873  1.947222  \n",
       "3  0.314258  0.361936 -0.245219  0.178402  \n",
       "4  0.055361  0.093128  0.312400  0.822937  \n",
       "\n",
       "[5 rows x 85 columns]"
      ]
     },
     "execution_count": 37,
     "metadata": {},
     "output_type": "execute_result"
    }
   ],
   "source": [
    "# print features\n",
    "features.head()"
   ]
  },
  {
   "cell_type": "code",
   "execution_count": 38,
   "metadata": {
    "id": "dUkDKhPDMPxl"
   },
   "outputs": [],
   "source": [
    "from joblib import dump"
   ]
  },
  {
   "cell_type": "markdown",
   "metadata": {
    "id": "PQpNxzKdMmbr"
   },
   "source": [
    "**[3.11]** Save the one-hot encoder and scaler into the folder `models` and call the files respectively `ohe.joblib` and  `scaler.joblib`"
   ]
  },
  {
   "cell_type": "code",
   "execution_count": 39,
   "metadata": {
    "id": "sFzM0GGMWSPf"
   },
   "outputs": [
    {
     "data": {
      "text/plain": [
       "['../models/scaler.joblib']"
      ]
     },
     "execution_count": 39,
     "metadata": {},
     "output_type": "execute_result"
    }
   ],
   "source": [
    "dump(ohe, '../models/ohe.joblib')\n",
    "dump(scaler, '../models/scaler.joblib')"
   ]
  },
  {
   "cell_type": "markdown",
   "metadata": {
    "id": "D2NlDzJKUZUh"
   },
   "source": [
    "## 4. Split Dataset"
   ]
  },
  {
   "cell_type": "markdown",
   "metadata": {
    "id": "wxT1liPFUeW7"
   },
   "source": [
    "**[4.1]** import train_test_split from sklearn.model_selection"
   ]
  },
  {
   "cell_type": "code",
   "execution_count": 40,
   "metadata": {
    "id": "FUaBQN0zU8AL",
    "tags": []
   },
   "outputs": [],
   "source": [
    "from sklearn.model_selection import train_test_split"
   ]
  },
  {
   "cell_type": "markdown",
   "metadata": {
    "id": "BBQOsRd61Ohc"
   },
   "source": [
    "**[4.2]** Split the train data into training & validation. Split the data to create unbiased splits with the number ratio of 1's and 0's in the target"
   ]
  },
  {
   "cell_type": "code",
   "execution_count": 41,
   "metadata": {
    "id": "7corXpZM1Ose",
    "tags": []
   },
   "outputs": [],
   "source": [
    "X_train, X_val, y_train, y_val = train_test_split(features, target, test_size=0.3, random_state=23, stratify = target)"
   ]
  },
  {
   "cell_type": "markdown",
   "metadata": {
    "id": "i_fDmAl312hJ"
   },
   "source": [
    "**[4.3]** Print the dimensions of `X_train`, `X_val`, `X_test`"
   ]
  },
  {
   "cell_type": "code",
   "execution_count": 42,
   "metadata": {
    "colab": {
     "base_uri": "https://localhost:8080/"
    },
    "id": "Yay4TXsZ12vP",
    "outputId": "1a782e5c-23cc-4b68-d028-93a86a84f4f8",
    "tags": []
   },
   "outputs": [
    {
     "name": "stdout",
     "output_type": "stream",
     "text": [
      "(16750, 85)\n",
      "(7179, 85)\n",
      "(4970, 85)\n"
     ]
    }
   ],
   "source": [
    "print(X_train.shape)\n",
    "print(X_val.shape)\n",
    "print(df_test_features.shape)"
   ]
  },
  {
   "cell_type": "markdown",
   "metadata": {
    "id": "ms2h3Y6M2Ia_"
   },
   "source": [
    "**[4.4]** Print the dimensions of `y_train`, `y_val`"
   ]
  },
  {
   "cell_type": "code",
   "execution_count": 43,
   "metadata": {
    "colab": {
     "base_uri": "https://localhost:8080/"
    },
    "id": "RWMz_heF2Ivg",
    "outputId": "138b9143-a3e7-4660-fd5f-895d22d34c7b",
    "tags": []
   },
   "outputs": [
    {
     "name": "stdout",
     "output_type": "stream",
     "text": [
      "(16750,)\n",
      "(7179,)\n"
     ]
    }
   ],
   "source": [
    "print(y_train.shape)\n",
    "print(y_val.shape)"
   ]
  },
  {
   "cell_type": "markdown",
   "metadata": {
    "id": "V7S-IWRUW2H_"
   },
   "source": [
    "**[4.5]** Save the sets into the folder `data/processed`"
   ]
  },
  {
   "cell_type": "code",
   "execution_count": 44,
   "metadata": {
    "id": "D5ticW7saJOY"
   },
   "outputs": [],
   "source": [
    "X_train.to_csv('../data/processed/X_train.csv', index=False)\n",
    "X_val.to_csv('../data/processed/X_val.csv', index=False)\n",
    "y_train.to_csv('../data/processed/y_train.csv', index=False)\n",
    "y_val.to_csv('../data/processed/y_val.csv', index=False)\n",
    "df_test_features.to_csv('../data/processed/test.csv', index=False)"
   ]
  },
  {
   "cell_type": "markdown",
   "metadata": {
    "id": "P4POxjz4Oi6W"
   },
   "source": [
    "## 5. Get Basic Model (Linear Regression)"
   ]
  },
  {
   "cell_type": "markdown",
   "metadata": {
    "id": "IBSCq-14C9Ox"
   },
   "source": [
    "**[5.1]** Import LogisticRegression from sklearn, initiate the class and fit the model"
   ]
  },
  {
   "cell_type": "code",
   "execution_count": 45,
   "metadata": {
    "id": "GkiEfuwOC9Ox"
   },
   "outputs": [
    {
     "data": {
      "text/html": [
       "<style>#sk-container-id-1 {color: black;background-color: white;}#sk-container-id-1 pre{padding: 0;}#sk-container-id-1 div.sk-toggleable {background-color: white;}#sk-container-id-1 label.sk-toggleable__label {cursor: pointer;display: block;width: 100%;margin-bottom: 0;padding: 0.3em;box-sizing: border-box;text-align: center;}#sk-container-id-1 label.sk-toggleable__label-arrow:before {content: \"▸\";float: left;margin-right: 0.25em;color: #696969;}#sk-container-id-1 label.sk-toggleable__label-arrow:hover:before {color: black;}#sk-container-id-1 div.sk-estimator:hover label.sk-toggleable__label-arrow:before {color: black;}#sk-container-id-1 div.sk-toggleable__content {max-height: 0;max-width: 0;overflow: hidden;text-align: left;background-color: #f0f8ff;}#sk-container-id-1 div.sk-toggleable__content pre {margin: 0.2em;color: black;border-radius: 0.25em;background-color: #f0f8ff;}#sk-container-id-1 input.sk-toggleable__control:checked~div.sk-toggleable__content {max-height: 200px;max-width: 100%;overflow: auto;}#sk-container-id-1 input.sk-toggleable__control:checked~label.sk-toggleable__label-arrow:before {content: \"▾\";}#sk-container-id-1 div.sk-estimator input.sk-toggleable__control:checked~label.sk-toggleable__label {background-color: #d4ebff;}#sk-container-id-1 div.sk-label input.sk-toggleable__control:checked~label.sk-toggleable__label {background-color: #d4ebff;}#sk-container-id-1 input.sk-hidden--visually {border: 0;clip: rect(1px 1px 1px 1px);clip: rect(1px, 1px, 1px, 1px);height: 1px;margin: -1px;overflow: hidden;padding: 0;position: absolute;width: 1px;}#sk-container-id-1 div.sk-estimator {font-family: monospace;background-color: #f0f8ff;border: 1px dotted black;border-radius: 0.25em;box-sizing: border-box;margin-bottom: 0.5em;}#sk-container-id-1 div.sk-estimator:hover {background-color: #d4ebff;}#sk-container-id-1 div.sk-parallel-item::after {content: \"\";width: 100%;border-bottom: 1px solid gray;flex-grow: 1;}#sk-container-id-1 div.sk-label:hover label.sk-toggleable__label {background-color: #d4ebff;}#sk-container-id-1 div.sk-serial::before {content: \"\";position: absolute;border-left: 1px solid gray;box-sizing: border-box;top: 0;bottom: 0;left: 50%;z-index: 0;}#sk-container-id-1 div.sk-serial {display: flex;flex-direction: column;align-items: center;background-color: white;padding-right: 0.2em;padding-left: 0.2em;position: relative;}#sk-container-id-1 div.sk-item {position: relative;z-index: 1;}#sk-container-id-1 div.sk-parallel {display: flex;align-items: stretch;justify-content: center;background-color: white;position: relative;}#sk-container-id-1 div.sk-item::before, #sk-container-id-1 div.sk-parallel-item::before {content: \"\";position: absolute;border-left: 1px solid gray;box-sizing: border-box;top: 0;bottom: 0;left: 50%;z-index: -1;}#sk-container-id-1 div.sk-parallel-item {display: flex;flex-direction: column;z-index: 1;position: relative;background-color: white;}#sk-container-id-1 div.sk-parallel-item:first-child::after {align-self: flex-end;width: 50%;}#sk-container-id-1 div.sk-parallel-item:last-child::after {align-self: flex-start;width: 50%;}#sk-container-id-1 div.sk-parallel-item:only-child::after {width: 0;}#sk-container-id-1 div.sk-dashed-wrapped {border: 1px dashed gray;margin: 0 0.4em 0.5em 0.4em;box-sizing: border-box;padding-bottom: 0.4em;background-color: white;}#sk-container-id-1 div.sk-label label {font-family: monospace;font-weight: bold;display: inline-block;line-height: 1.2em;}#sk-container-id-1 div.sk-label-container {text-align: center;}#sk-container-id-1 div.sk-container {/* jupyter's `normalize.less` sets `[hidden] { display: none; }` but bootstrap.min.css set `[hidden] { display: none !important; }` so we also need the `!important` here to be able to override the default hidden behavior on the sphinx rendered scikit-learn.org. See: https://github.com/scikit-learn/scikit-learn/issues/21755 */display: inline-block !important;position: relative;}#sk-container-id-1 div.sk-text-repr-fallback {display: none;}</style><div id=\"sk-container-id-1\" class=\"sk-top-container\"><div class=\"sk-text-repr-fallback\"><pre>LogisticRegression(max_iter=2000)</pre><b>In a Jupyter environment, please rerun this cell to show the HTML representation or trust the notebook. <br />On GitHub, the HTML representation is unable to render, please try loading this page with nbviewer.org.</b></div><div class=\"sk-container\" hidden><div class=\"sk-item\"><div class=\"sk-estimator sk-toggleable\"><input class=\"sk-toggleable__control sk-hidden--visually\" id=\"sk-estimator-id-1\" type=\"checkbox\" checked><label for=\"sk-estimator-id-1\" class=\"sk-toggleable__label sk-toggleable__label-arrow\">LogisticRegression</label><div class=\"sk-toggleable__content\"><pre>LogisticRegression(max_iter=2000)</pre></div></div></div></div></div>"
      ],
      "text/plain": [
       "LogisticRegression(max_iter=2000)"
      ]
     },
     "execution_count": 45,
     "metadata": {},
     "output_type": "execute_result"
    }
   ],
   "source": [
    "from sklearn.linear_model import LogisticRegression\n",
    "\n",
    "lr = LogisticRegression(solver='lbfgs', max_iter = 2000)\n",
    "lr.fit(X_train, y_train)"
   ]
  },
  {
   "cell_type": "markdown",
   "metadata": {
    "id": "FNcJ4Zi8OlDO"
   },
   "source": [
    "**[5.2]** Generate a numpy array with same dimensions as y_train that contains only the value saved in pred_value"
   ]
  },
  {
   "cell_type": "code",
   "execution_count": 46,
   "metadata": {},
   "outputs": [],
   "source": [
    "y_val_pred = lr.predict(X_val)"
   ]
  },
  {
   "cell_type": "markdown",
   "metadata": {
    "id": "LnalRa8uQRNj"
   },
   "source": [
    "**[5.3]** Import plot_roc_curve from sklearn.metrics"
   ]
  },
  {
   "cell_type": "code",
   "execution_count": 47,
   "metadata": {
    "id": "hn2PL3QuQRVZ"
   },
   "outputs": [],
   "source": [
    "from sklearn.metrics import roc_curve, roc_auc_score"
   ]
  },
  {
   "cell_type": "markdown",
   "metadata": {
    "id": "jgGVUiILC9Oz"
   },
   "source": [
    "**[5.4]** Get false positive rate and true positive rate and save it in fpr, tpr"
   ]
  },
  {
   "cell_type": "code",
   "execution_count": 48,
   "metadata": {
    "colab": {
     "base_uri": "https://localhost:8080/"
    },
    "id": "Pw_LqGuGC9Oz",
    "outputId": "7a135f74-9ae2-4987-edc1-af2d5ead2fe3",
    "tags": []
   },
   "outputs": [],
   "source": [
    "# Calculate ROC curve\n",
    "fpr, tpr, thresholds = roc_curve(y_val, y_val_pred)"
   ]
  },
  {
   "cell_type": "code",
   "execution_count": 49,
   "metadata": {},
   "outputs": [
    {
     "name": "stdout",
     "output_type": "stream",
     "text": [
      "AUC-ROC Score: 0.6689693336651856\n"
     ]
    }
   ],
   "source": [
    "auc_roc = roc_auc_score(y_val, y_val_pred)\n",
    "print(f\"AUC-ROC Score: {auc_roc}\")"
   ]
  },
  {
   "cell_type": "code",
   "execution_count": 50,
   "metadata": {},
   "outputs": [
    {
     "data": {
      "image/png": "[encoded data removed]",
      "text/plain": [
       "<Figure size 640x480 with 1 Axes>"
      ]
     },
     "metadata": {},
     "output_type": "display_data"
    }
   ],
   "source": [
    "# Plot ROC curve\n",
    "# source - https://stackoverflow.com/questions/25009284/how-to-plot-roc-curve-in-python\n",
    "plt.figure()\n",
    "plt.plot(fpr, tpr, color='darkorange', lw=2, label='ROC curve (area = %0.2f)' % auc_roc)\n",
    "plt.plot([0, 1], [0, 1], color='navy', lw=2, linestyle='--')\n",
    "plt.xlim([0.0, 1.0])\n",
    "plt.ylim([0.0, 1.05])\n",
    "plt.xlabel('False Positive Rate')\n",
    "plt.ylabel('True Positive Rate')\n",
    "plt.title('ROC Curve')\n",
    "plt.legend(loc=\"lower right\")\n",
    "plt.show()"
   ]
  },
  {
   "cell_type": "markdown",
   "metadata": {},
   "source": [
    "**[5.5]** Save the logistic regression model"
   ]
  },
  {
   "cell_type": "code",
   "execution_count": 51,
   "metadata": {},
   "outputs": [
    {
     "data": {
      "text/plain": [
       "['../models/log_reg_week1.joblib']"
      ]
     },
     "execution_count": 51,
     "metadata": {},
     "output_type": "execute_result"
    }
   ],
   "source": [
    "dump(lr, '../models/log_reg_week1.joblib')"
   ]
  },
  {
   "cell_type": "markdown",
   "metadata": {},
   "source": [
    "**[5.6]** Predict the probabilities for class 1 i.e. player drafted"
   ]
  },
  {
   "cell_type": "code",
   "execution_count": 52,
   "metadata": {},
   "outputs": [],
   "source": [
    "y_test_prob = lr.predict_proba(df_test_features)[:, 1] "
   ]
  },
  {
   "cell_type": "code",
   "execution_count": 53,
   "metadata": {},
   "outputs": [
    {
     "data": {
      "text/plain": [
       "array([7.52973653e-07, 4.87727559e-07, 1.40838326e-04, ...,\n",
       "       9.10872565e-07, 2.12362391e-06, 1.11210742e-07])"
      ]
     },
     "execution_count": 53,
     "metadata": {},
     "output_type": "execute_result"
    }
   ],
   "source": [
    "y_test_prob"
   ]
  },
  {
   "cell_type": "code",
   "execution_count": 54,
   "metadata": {},
   "outputs": [],
   "source": [
    "# round it up to 3 decimals\n",
    "y_test_prob_rounded = np.round(y_test_prob, 3)"
   ]
  },
  {
   "cell_type": "markdown",
   "metadata": {},
   "source": [
    "**[5.7]** Save the output into a dataframe with two columns viz. `player_id` and `drafted` to save it into a csv file"
   ]
  },
  {
   "cell_type": "code",
   "execution_count": 55,
   "metadata": {},
   "outputs": [],
   "source": [
    "output = pd.DataFrame({'player_id': df_test.player_id, 'drafted': y_test_prob_rounded})\n",
    "output.to_csv('../submission_files/pred2_log_reg.csv', index=False)"
   ]
  },
  {
   "cell_type": "code",
   "execution_count": null,
   "metadata": {},
   "outputs": [],
   "source": []
  }
 ],
 "metadata": {
  "colab": {
   "provenance": []
  },
  "kernelspec": {
   "display_name": "Python 3 (ipykernel)",
   "language": "python",
   "name": "python3"
  },
  "language_info": {
   "codemirror_mode": {
    "name": "ipython",
    "version": 3
   },
   "file_extension": ".py",
   "mimetype": "text/x-python",
   "name": "python",
   "nbconvert_exporter": "python",
   "pygments_lexer": "ipython3",
   "version": "3.10.12"
  }
 },
 "nbformat": 4,
 "nbformat_minor": 4
}
