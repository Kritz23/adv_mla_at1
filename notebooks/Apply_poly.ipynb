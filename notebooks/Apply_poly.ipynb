{
 "cells": [
  {
   "cell_type": "markdown",
   "metadata": {
    "id": "uQ6wc2HE0pke"
   },
   "source": [
    "# **Lab: ML Engineering**\n",
    "\n"
   ]
  },
  {
   "cell_type": "markdown",
   "metadata": {
    "id": "tQgxLRrvjiJb"
   },
   "source": [
    "\n",
    "## Exercise 3: Polynomial Regression\n",
    "\n",
    "This time we will perform a polynomial transformation before training a Linear Regression model.\n",
    "\n",
    "\n",
    "**Pre-requisites:**\n",
    "- Create a github account (https://github.com/join)\n",
    "- Install git (https://git-scm.com/book/en/v2/Getting-Started-Installing-Git)\n",
    "- Install pyenv (https://realpython.com/lessons/installing-pyenv/)\n",
    "- Install poetry (https://python-poetry.org/docs/#installation)\n",
    "- Install Wget for Windows users (https://eternallybored.org/misc/wget/)\n",
    "\n",
    "\n",
    "The steps are:\n",
    "1.   Create new Git branch\n",
    "2.   Load the dataset\n",
    "3.   Apply Polynomial Transformation\n",
    "4.   Train Linear Regression model\n",
    "5.   Push changes\n"
   ]
  },
  {
   "cell_type": "markdown",
   "metadata": {
    "id": "smh_LhVjIg9s"
   },
   "source": [
    "## 1. Create new Git branch\n"
   ]
  },
  {
   "cell_type": "markdown",
   "metadata": {
    "id": "jxQRDLu2C6D4"
   },
   "source": [
    "**[1.1]** Create a new git branch called `adv_mla_1_poly`\n"
   ]
  },
  {
   "cell_type": "code",
   "execution_count": null,
   "metadata": {
    "id": "lQxWkVV7IIwe"
   },
   "outputs": [],
   "source": [
    "# Placeholder for student's code (command line)"
   ]
  },
  {
   "cell_type": "code",
   "execution_count": null,
   "metadata": {
    "id": "zBD6K4MXC6rA"
   },
   "outputs": [],
   "source": [
    "# Solution:\n",
    "git checkout -b adv_mla_1_poly"
   ]
  },
  {
   "cell_type": "markdown",
   "metadata": {
    "id": "uz35J1hNIFaO"
   },
   "source": [
    "**[1.2]** Launch Jupyter Lab from your virtual environment"
   ]
  },
  {
   "cell_type": "code",
   "execution_count": null,
   "metadata": {
    "id": "DorL2FE6IFgN"
   },
   "outputs": [],
   "source": [
    "# Placeholder for student's code (command line)"
   ]
  },
  {
   "cell_type": "code",
   "execution_count": null,
   "metadata": {
    "id": "GV0UNPcmIFiy"
   },
   "outputs": [],
   "source": [
    "# Solution:\n",
    "poetry run jupyter lab"
   ]
  },
  {
   "cell_type": "markdown",
   "metadata": {
    "id": "yTjwF_joDWnE"
   },
   "source": [
    "**[1.3]** Navigate the folder `notebooks` and create a new jupyter notebook called `2_linear_poly.ipynb`"
   ]
  },
  {
   "cell_type": "markdown",
   "metadata": {
    "id": "_CylBg1-ZK4F"
   },
   "source": [
    "## 2. Load the dataset\n"
   ]
  },
  {
   "cell_type": "markdown",
   "metadata": {
    "id": "PCvR3LRvINgR"
   },
   "source": [
    "**[2.1]** Launch magic commands to automatically reload modules"
   ]
  },
  {
   "cell_type": "code",
   "execution_count": null,
   "metadata": {
    "id": "UiMoft2MINmB"
   },
   "outputs": [],
   "source": [
    "# Placeholder for student's code (Python code)"
   ]
  },
  {
   "cell_type": "code",
   "execution_count": null,
   "metadata": {
    "id": "vo-Jx40pINoV"
   },
   "outputs": [],
   "source": [
    "# Solution\n",
    "%load_ext autoreload\n",
    "%autoreload 2"
   ]
  },
  {
   "cell_type": "markdown",
   "metadata": {
    "id": "4JI0kZJxpkoK"
   },
   "source": [
    "**[2.1]** Import the pandas, numpy packages and dump from joblib"
   ]
  },
  {
   "cell_type": "code",
   "execution_count": null,
   "metadata": {
    "id": "85PHb6M7p57j"
   },
   "outputs": [],
   "source": [
    "# Placeholder for student's code (Python code)"
   ]
  },
  {
   "cell_type": "code",
   "execution_count": null,
   "metadata": {
    "id": "1sXpjWA8pz0q",
    "tags": []
   },
   "outputs": [],
   "source": [
    "# Solution\n",
    "import pandas as pd\n",
    "import numpy as np\n",
    "from joblib import dump"
   ]
  },
  {
   "cell_type": "markdown",
   "metadata": {
    "id": "hknbRqaiH7jo"
   },
   "source": [
    "**[2.2]** Load the saved sets from `data/processed`"
   ]
  },
  {
   "cell_type": "code",
   "execution_count": null,
   "metadata": {
    "id": "1GUkoAWaH7jo"
   },
   "outputs": [],
   "source": [
    "# Placeholder for student's code (Python code)"
   ]
  },
  {
   "cell_type": "code",
   "execution_count": null,
   "metadata": {
    "id": "ZM1Nc5DeH7jo"
   },
   "outputs": [],
   "source": [
    "# Solution\n",
    "X_train = pd.read_csv('../data/processed/X_train.csv')\n",
    "X_val   = pd.read_csv('../data/processed/X_val.csv'  )\n",
    "X_test  = pd.read_csv('../data/processed/X_test.csv' )\n",
    "y_train = pd.read_csv('../data/processed/y_train.csv')\n",
    "y_val   = pd.read_csv('../data/processed/y_val.csv'  )\n",
    "y_test  = pd.read_csv('../data/processed/y_test.csv' )"
   ]
  },
  {
   "cell_type": "markdown",
   "metadata": {
    "id": "_NCwQQFkU3v5"
   },
   "source": [
    "## 3. Apply Polynomial Transformation"
   ]
  },
  {
   "cell_type": "markdown",
   "metadata": {
    "id": "JIzNxpUzytVo"
   },
   "source": [
    "**[3.1]** Import PolynomialFeatures from sklearn.preprocessing"
   ]
  },
  {
   "cell_type": "code",
   "execution_count": null,
   "metadata": {
    "id": "JLFkRdC7yZNC"
   },
   "outputs": [],
   "source": [
    "# Placeholder for student's code (Python code)"
   ]
  },
  {
   "cell_type": "code",
   "execution_count": null,
   "metadata": {
    "id": "RyGkBuzOtmFT",
    "tags": []
   },
   "outputs": [],
   "source": [
    "# Solution:\n",
    "from sklearn.preprocessing import PolynomialFeatures"
   ]
  },
  {
   "cell_type": "markdown",
   "metadata": {
    "id": "TIn80khDzm_8"
   },
   "source": [
    "**[3.2]** Instantiate a PolynomialFeatures with degree 2"
   ]
  },
  {
   "cell_type": "code",
   "execution_count": null,
   "metadata": {
    "id": "w2GXx-j4EYNY"
   },
   "outputs": [],
   "source": [
    "# Placeholder for student's code (Python code)"
   ]
  },
  {
   "cell_type": "code",
   "execution_count": null,
   "metadata": {
    "id": "wwxiGvm9znIX",
    "tags": []
   },
   "outputs": [],
   "source": [
    "# Solution:\n",
    "poly = PolynomialFeatures(2)"
   ]
  },
  {
   "cell_type": "markdown",
   "metadata": {
    "id": "r8FMzCVyyQb8"
   },
   "source": [
    "**[3.3]** Fit the PolynomialFeatures and perform transformation on X_train"
   ]
  },
  {
   "cell_type": "code",
   "execution_count": null,
   "metadata": {
    "id": "aTn2VB7syQn8"
   },
   "outputs": [],
   "source": [
    "# Placeholder for student's code (Python code)"
   ]
  },
  {
   "cell_type": "code",
   "execution_count": null,
   "metadata": {
    "id": "EAMfTpGoyQu3",
    "tags": []
   },
   "outputs": [],
   "source": [
    "# Solution:\n",
    "X_train = poly.fit_transform(X_train)"
   ]
  },
  {
   "cell_type": "markdown",
   "metadata": {
    "id": "zD-FwMOP0ESC"
   },
   "source": [
    "**[3.4]** Display the dimensions of X_train"
   ]
  },
  {
   "cell_type": "code",
   "execution_count": null,
   "metadata": {
    "id": "rK8wLflu0Ed5"
   },
   "outputs": [],
   "source": [
    "# Placeholder for student's code (Python code)"
   ]
  },
  {
   "cell_type": "code",
   "execution_count": null,
   "metadata": {
    "id": "JfiKbw1E0Ee5",
    "outputId": "d3d06d3f-dbd0-4f55-d5a3-16f6d789c051",
    "tags": []
   },
   "outputs": [
    {
     "data": {
      "text/plain": [
       "(23786, 1830)"
      ]
     },
     "execution_count": 7,
     "metadata": {},
     "output_type": "execute_result"
    }
   ],
   "source": [
    "# Solution\n",
    "X_train.shape"
   ]
  },
  {
   "cell_type": "markdown",
   "metadata": {
    "id": "L8Tgk3ZW0RGA"
   },
   "source": [
    "**[3.5]** Perform transformation on X_val and X_test with PolynomialFeatures"
   ]
  },
  {
   "cell_type": "code",
   "execution_count": null,
   "metadata": {
    "id": "V8T92u1n0RRm"
   },
   "outputs": [],
   "source": [
    "# Placeholder for student's code (Python code)"
   ]
  },
  {
   "cell_type": "code",
   "execution_count": null,
   "metadata": {
    "id": "D1gz4fwW0RUQ",
    "tags": []
   },
   "outputs": [],
   "source": [
    "# Solution:\n",
    "X_val = poly.transform(X_val)\n",
    "X_test = poly.transform(X_test)"
   ]
  },
  {
   "cell_type": "markdown",
   "metadata": {
    "id": "K_m-WMllhVqG"
   },
   "source": [
    "# 4. Train Linear Regression model"
   ]
  },
  {
   "cell_type": "markdown",
   "metadata": {
    "id": "ImPSPeLcQrS5"
   },
   "source": [
    "**[4.1]** Import the linear regression module from sklearn"
   ]
  },
  {
   "cell_type": "code",
   "execution_count": null,
   "metadata": {
    "id": "Oqu0mLfnQrZX"
   },
   "outputs": [],
   "source": [
    "# Placeholder for student's code (Python code)"
   ]
  },
  {
   "cell_type": "code",
   "execution_count": null,
   "metadata": {
    "id": "hh2wmK9wQrcB",
    "tags": []
   },
   "outputs": [],
   "source": [
    "# Solution:\n",
    "from sklearn.linear_model import LinearRegression"
   ]
  },
  {
   "cell_type": "markdown",
   "metadata": {
    "id": "m00Ks05tQsJb"
   },
   "source": [
    "**[4.2]** Task: instantiate the LinearRegression class into a variable called reg"
   ]
  },
  {
   "cell_type": "code",
   "execution_count": null,
   "metadata": {
    "id": "x--MSD6_QsRV"
   },
   "outputs": [],
   "source": [
    "# Placeholder for student's code (Python code)"
   ]
  },
  {
   "cell_type": "code",
   "execution_count": null,
   "metadata": {
    "id": "oijeWjaIQsT9",
    "tags": []
   },
   "outputs": [],
   "source": [
    "# Solution\n",
    "reg = LinearRegression()"
   ]
  },
  {
   "cell_type": "markdown",
   "metadata": {
    "id": "Ao86WklhRj-F"
   },
   "source": [
    "**[4.3]** Task: Fit the model with the prepared data"
   ]
  },
  {
   "cell_type": "code",
   "execution_count": null,
   "metadata": {
    "id": "lMXMIkJHRkHz"
   },
   "outputs": [],
   "source": [
    "# Placeholder for student's code (Python code)"
   ]
  },
  {
   "cell_type": "code",
   "execution_count": null,
   "metadata": {
    "id": "rprce0GGRkKb",
    "outputId": "1e0a9879-15ac-44f9-9078-6c6ceefa740d",
    "tags": []
   },
   "outputs": [
    {
     "data": {
      "text/html": [
       "<style>#sk-container-id-1 {color: black;background-color: white;}#sk-container-id-1 pre{padding: 0;}#sk-container-id-1 div.sk-toggleable {background-color: white;}#sk-container-id-1 label.sk-toggleable__label {cursor: pointer;display: block;width: 100%;margin-bottom: 0;padding: 0.3em;box-sizing: border-box;text-align: center;}#sk-container-id-1 label.sk-toggleable__label-arrow:before {content: \"▸\";float: left;margin-right: 0.25em;color: #696969;}#sk-container-id-1 label.sk-toggleable__label-arrow:hover:before {color: black;}#sk-container-id-1 div.sk-estimator:hover label.sk-toggleable__label-arrow:before {color: black;}#sk-container-id-1 div.sk-toggleable__content {max-height: 0;max-width: 0;overflow: hidden;text-align: left;background-color: #f0f8ff;}#sk-container-id-1 div.sk-toggleable__content pre {margin: 0.2em;color: black;border-radius: 0.25em;background-color: #f0f8ff;}#sk-container-id-1 input.sk-toggleable__control:checked~div.sk-toggleable__content {max-height: 200px;max-width: 100%;overflow: auto;}#sk-container-id-1 input.sk-toggleable__control:checked~label.sk-toggleable__label-arrow:before {content: \"▾\";}#sk-container-id-1 div.sk-estimator input.sk-toggleable__control:checked~label.sk-toggleable__label {background-color: #d4ebff;}#sk-container-id-1 div.sk-label input.sk-toggleable__control:checked~label.sk-toggleable__label {background-color: #d4ebff;}#sk-container-id-1 input.sk-hidden--visually {border: 0;clip: rect(1px 1px 1px 1px);clip: rect(1px, 1px, 1px, 1px);height: 1px;margin: -1px;overflow: hidden;padding: 0;position: absolute;width: 1px;}#sk-container-id-1 div.sk-estimator {font-family: monospace;background-color: #f0f8ff;border: 1px dotted black;border-radius: 0.25em;box-sizing: border-box;margin-bottom: 0.5em;}#sk-container-id-1 div.sk-estimator:hover {background-color: #d4ebff;}#sk-container-id-1 div.sk-parallel-item::after {content: \"\";width: 100%;border-bottom: 1px solid gray;flex-grow: 1;}#sk-container-id-1 div.sk-label:hover label.sk-toggleable__label {background-color: #d4ebff;}#sk-container-id-1 div.sk-serial::before {content: \"\";position: absolute;border-left: 1px solid gray;box-sizing: border-box;top: 0;bottom: 0;left: 50%;z-index: 0;}#sk-container-id-1 div.sk-serial {display: flex;flex-direction: column;align-items: center;background-color: white;padding-right: 0.2em;padding-left: 0.2em;position: relative;}#sk-container-id-1 div.sk-item {position: relative;z-index: 1;}#sk-container-id-1 div.sk-parallel {display: flex;align-items: stretch;justify-content: center;background-color: white;position: relative;}#sk-container-id-1 div.sk-item::before, #sk-container-id-1 div.sk-parallel-item::before {content: \"\";position: absolute;border-left: 1px solid gray;box-sizing: border-box;top: 0;bottom: 0;left: 50%;z-index: -1;}#sk-container-id-1 div.sk-parallel-item {display: flex;flex-direction: column;z-index: 1;position: relative;background-color: white;}#sk-container-id-1 div.sk-parallel-item:first-child::after {align-self: flex-end;width: 50%;}#sk-container-id-1 div.sk-parallel-item:last-child::after {align-self: flex-start;width: 50%;}#sk-container-id-1 div.sk-parallel-item:only-child::after {width: 0;}#sk-container-id-1 div.sk-dashed-wrapped {border: 1px dashed gray;margin: 0 0.4em 0.5em 0.4em;box-sizing: border-box;padding-bottom: 0.4em;background-color: white;}#sk-container-id-1 div.sk-label label {font-family: monospace;font-weight: bold;display: inline-block;line-height: 1.2em;}#sk-container-id-1 div.sk-label-container {text-align: center;}#sk-container-id-1 div.sk-container {/* jupyter's `normalize.less` sets `[hidden] { display: none; }` but bootstrap.min.css set `[hidden] { display: none !important; }` so we also need the `!important` here to be able to override the default hidden behavior on the sphinx rendered scikit-learn.org. See: https://github.com/scikit-learn/scikit-learn/issues/21755 */display: inline-block !important;position: relative;}#sk-container-id-1 div.sk-text-repr-fallback {display: none;}</style><div id=\"sk-container-id-1\" class=\"sk-top-container\"><div class=\"sk-text-repr-fallback\"><pre>LinearRegression()</pre><b>In a Jupyter environment, please rerun this cell to show the HTML representation or trust the notebook. <br />On GitHub, the HTML representation is unable to render, please try loading this page with nbviewer.org.</b></div><div class=\"sk-container\" hidden><div class=\"sk-item\"><div class=\"sk-estimator sk-toggleable\"><input class=\"sk-toggleable__control sk-hidden--visually\" id=\"sk-estimator-id-1\" type=\"checkbox\" checked><label for=\"sk-estimator-id-1\" class=\"sk-toggleable__label sk-toggleable__label-arrow\">LinearRegression</label><div class=\"sk-toggleable__content\"><pre>LinearRegression()</pre></div></div></div></div></div>"
      ],
      "text/plain": [
       "LinearRegression()"
      ]
     },
     "execution_count": 11,
     "metadata": {},
     "output_type": "execute_result"
    }
   ],
   "source": [
    "# Solution\n",
    "reg.fit(X_train, y_train)"
   ]
  },
  {
   "cell_type": "markdown",
   "metadata": {
    "id": "LZFys_bhRtu-"
   },
   "source": [
    "**[4.4]** Import `dump` from `joblib` and save the fitted model into the folder `models` as a file called `linear_poly_2`"
   ]
  },
  {
   "cell_type": "code",
   "execution_count": null,
   "metadata": {
    "id": "QzHfn9UORt2e"
   },
   "outputs": [],
   "source": [
    "# Placeholder for student's code (Python code)"
   ]
  },
  {
   "cell_type": "code",
   "execution_count": null,
   "metadata": {
    "id": "3Yn_xbLxRt4y",
    "outputId": "4e8967b0-6cbc-4b1c-ec16-08097c1fdedb",
    "tags": []
   },
   "outputs": [
    {
     "data": {
      "text/plain": [
       "['../models/linear_poly_2.joblib']"
      ]
     },
     "execution_count": 12,
     "metadata": {},
     "output_type": "execute_result"
    }
   ],
   "source": [
    "# Solution:\n",
    "from joblib import dump\n",
    "\n",
    "dump(reg,  '../models/linear_poly_2.joblib')"
   ]
  },
  {
   "cell_type": "markdown",
   "metadata": {
    "id": "xMvlK3mkfk0Q"
   },
   "source": [
    "**[4.5]** Save the predictions from this model for the training and validation sets into 2 variables called `y_train_preds` and `y_val_preds`\n"
   ]
  },
  {
   "cell_type": "code",
   "execution_count": null,
   "metadata": {
    "id": "xOVFv7mFfk6D"
   },
   "outputs": [],
   "source": [
    "# Placeholder for student's code (Python code)"
   ]
  },
  {
   "cell_type": "code",
   "execution_count": null,
   "metadata": {
    "id": "BTkCfP4lfk86",
    "tags": []
   },
   "outputs": [],
   "source": [
    "# Solution:\n",
    "y_train_preds = reg.predict(X_train)\n",
    "y_val_preds = reg.predict(X_val)"
   ]
  },
  {
   "cell_type": "markdown",
   "metadata": {
    "id": "Y5npD0dOhhzK"
   },
   "source": [
    "**[4.6]** Import mean_squared_error and mean_absolute_error from sklearn.metrics"
   ]
  },
  {
   "cell_type": "code",
   "execution_count": null,
   "metadata": {
    "id": "kWGNX_byhh6_"
   },
   "outputs": [],
   "source": [
    "# Placeholder for student's code (Python code)"
   ]
  },
  {
   "cell_type": "code",
   "execution_count": null,
   "metadata": {
    "id": "c5WkEIhHhh9j",
    "tags": []
   },
   "outputs": [],
   "source": [
    "# Solution:\n",
    "from sklearn.metrics import mean_squared_error as mse\n",
    "from sklearn.metrics import mean_absolute_error as mae"
   ]
  },
  {
   "cell_type": "markdown",
   "metadata": {
    "id": "j-JTUQkUhDhq"
   },
   "source": [
    "**[4.7]** Display the RMSE and MAE scores of this model on the training set"
   ]
  },
  {
   "cell_type": "code",
   "execution_count": null,
   "metadata": {
    "id": "4uYmcxWHhDnd"
   },
   "outputs": [],
   "source": [
    "# Placeholder for student's code (Python code)"
   ]
  },
  {
   "cell_type": "code",
   "execution_count": null,
   "metadata": {
    "id": "hQd__b-chDqR",
    "outputId": "73528e84-16d0-4379-965f-b9912d446e05",
    "tags": []
   },
   "outputs": [
    {
     "name": "stdout",
     "output_type": "stream",
     "text": [
      "RMSE Training: 11183.803231724389\n",
      "MAE Training: 4616.70648372467\n"
     ]
    }
   ],
   "source": [
    "# Solution:\n",
    "print(mse(y_train_preds, y_train, squared=False))\n",
    "print(mae(y_train_preds, y_train))"
   ]
  },
  {
   "cell_type": "markdown",
   "metadata": {
    "id": "1rAjI3c4TIPK"
   },
   "source": [
    "**[4.8]** Display the RMSE and MAE scores of this model on the validation set"
   ]
  },
  {
   "cell_type": "code",
   "execution_count": null,
   "metadata": {
    "id": "ro3FgUvbTIXH"
   },
   "outputs": [],
   "source": [
    "# Placeholder for student's code (Python code)"
   ]
  },
  {
   "cell_type": "code",
   "execution_count": null,
   "metadata": {
    "id": "YqiLiSVzTIZ1",
    "outputId": "bc69e834-17f9-481c-d6d7-9f972dd59efb",
    "tags": []
   },
   "outputs": [
    {
     "name": "stdout",
     "output_type": "stream",
     "text": [
      "RMSE Validation: 11562.682655335984\n",
      "MAE Validation: 5210.958660455291\n"
     ]
    }
   ],
   "source": [
    "# Solution:\n",
    "print(mse(y_val_preds, y_val, squared=False))\n",
    "print(mae(y_val_preds, y_val))"
   ]
  },
  {
   "cell_type": "markdown",
   "metadata": {
    "id": "L5Le10ohW01S"
   },
   "source": [
    "**[4.9]** Display the RMSE and MAE scores of this model on the testing set"
   ]
  },
  {
   "cell_type": "code",
   "execution_count": null,
   "metadata": {
    "id": "KH35R9JmW2wb"
   },
   "outputs": [],
   "source": [
    "# Placeholder for student's code (Python code)"
   ]
  },
  {
   "cell_type": "code",
   "execution_count": null,
   "metadata": {
    "id": "Bc10AnKyW23U"
   },
   "outputs": [],
   "source": [
    "# Solution:\n",
    "y_test_preds = reg.predict(X_test)\n",
    "print(mse(y_test_preds, y_test, squared=False))\n",
    "print(mae(y_test_preds, y_test))"
   ]
  },
  {
   "cell_type": "markdown",
   "metadata": {
    "id": "1yX0Ocg4hcZM"
   },
   "source": [
    "# 5.   Push changes"
   ]
  },
  {
   "cell_type": "markdown",
   "metadata": {
    "id": "3guOKU9gjrmp"
   },
   "source": [
    "**[5.1]** Add you changes to git staging area"
   ]
  },
  {
   "cell_type": "code",
   "execution_count": null,
   "metadata": {
    "id": "lKuRNeqAj0ym"
   },
   "outputs": [],
   "source": [
    "# Placeholder for student's code (command line)"
   ]
  },
  {
   "cell_type": "code",
   "execution_count": null,
   "metadata": {
    "id": "axcj-jS0jruy"
   },
   "outputs": [],
   "source": [
    "# Solution:\n",
    "git add ."
   ]
  },
  {
   "cell_type": "markdown",
   "metadata": {
    "id": "6nUK2dp_j67X"
   },
   "source": [
    "**[5.2]** Create the snapshot of your repository and add a description"
   ]
  },
  {
   "cell_type": "code",
   "execution_count": null,
   "metadata": {
    "id": "1-M-aS-Ij7EE"
   },
   "outputs": [],
   "source": [
    "# Placeholder for student's code (command line)"
   ]
  },
  {
   "cell_type": "code",
   "execution_count": null,
   "metadata": {
    "id": "zovhzXRxj7Il"
   },
   "outputs": [],
   "source": [
    "# Solution:\n",
    "git commit -m \"linear regression with poly 2\""
   ]
  },
  {
   "cell_type": "markdown",
   "metadata": {
    "id": "Y9FciIQZj7nX"
   },
   "source": [
    "**[5.3]** Push your snapshot to Github"
   ]
  },
  {
   "cell_type": "code",
   "execution_count": null,
   "metadata": {
    "id": "IR7i6D5hj7uO"
   },
   "outputs": [],
   "source": [
    "# Placeholder for student's code (command line)"
   ]
  },
  {
   "cell_type": "code",
   "execution_count": null,
   "metadata": {
    "id": "WaVAgJ4Aj7wi"
   },
   "outputs": [],
   "source": [
    "# Solution:\n",
    "git push --set-upstream origin adv_mla_1_poly"
   ]
  },
  {
   "cell_type": "markdown",
   "metadata": {
    "id": "4ZQeGGRmglew"
   },
   "source": [
    "[5.4] Go to to github and merge your change to the master/main branch"
   ]
  },
  {
   "cell_type": "markdown",
   "metadata": {
    "id": "d7a6bwMniAs1"
   },
   "source": [
    "**[5.5]** Check out to the master branch"
   ]
  },
  {
   "cell_type": "code",
   "execution_count": null,
   "metadata": {
    "id": "eM9v_33XiA1I"
   },
   "outputs": [],
   "source": [
    "# Placeholder for student's code (command line)"
   ]
  },
  {
   "cell_type": "code",
   "execution_count": null,
   "metadata": {
    "id": "d6-AI0x7iA4M"
   },
   "outputs": [],
   "source": [
    "# Solution:\n",
    "git checkout master"
   ]
  },
  {
   "cell_type": "markdown",
   "metadata": {
    "id": "v98Ka9kNiBLw"
   },
   "source": [
    "**[5.6]** Pull the latest updates"
   ]
  },
  {
   "cell_type": "code",
   "execution_count": null,
   "metadata": {
    "id": "yNZb1PyEjIOP"
   },
   "outputs": [],
   "source": [
    "# Placeholder for student's code (command line)"
   ]
  },
  {
   "cell_type": "code",
   "execution_count": null,
   "metadata": {
    "id": "5TJAEYxPjIRS"
   },
   "outputs": [],
   "source": [
    "# Solution:\n",
    "git pull"
   ]
  },
  {
   "cell_type": "markdown",
   "metadata": {
    "id": "EkQx18jYiEvQ"
   },
   "source": [
    "**[5.7]** Stop Jupyter Lab"
   ]
  }
 ],
 "metadata": {
  "colab": {
   "provenance": []
  },
  "kernelspec": {
   "display_name": "Python 3 (ipykernel)",
   "language": "python",
   "name": "python3"
  },
  "language_info": {
   "codemirror_mode": {
    "name": "ipython",
    "version": 3
   },
   "file_extension": ".py",
   "mimetype": "text/x-python",
   "name": "python",
   "nbconvert_exporter": "python",
   "pygments_lexer": "ipython3",
   "version": "3.10.12"
  }
 },
 "nbformat": 4,
 "nbformat_minor": 1
}
